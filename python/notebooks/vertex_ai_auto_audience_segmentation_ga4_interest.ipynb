{
 "cells": [
  {
   "cell_type": "markdown",
   "metadata": {},
   "source": [
    "# Auto Audience Segmentation (Interest based)"
   ]
  },
  {
   "cell_type": "markdown",
   "metadata": {},
   "source": [
    "### Install (and update) additional packages\n",
    "\n",
    "Install the following packages required to execute this notebook. "
   ]
  },
  {
   "cell_type": "code",
   "execution_count": null,
   "metadata": {},
   "outputs": [],
   "source": [
    "!python --version"
   ]
  },
  {
   "cell_type": "code",
   "execution_count": null,
   "metadata": {},
   "outputs": [],
   "source": [
    "import os\n",
    "\n",
    "# The Vertex AI Workbench Notebook product has specific requirements\n",
    "IS_WORKBENCH_NOTEBOOK = os.getenv(\"DL_ANACONDA_HOME\")\n",
    "IS_USER_MANAGED_WORKBENCH_NOTEBOOK = os.path.exists(\n",
    "    \"/opt/deeplearning/metadata/env_version\"\n",
    ")\n",
    "\n",
    "# Vertex AI Notebook requires dependencies to be installed with '--user'\n",
    "USER_FLAG = \"\"\n",
    "if IS_WORKBENCH_NOTEBOOK:\n",
    "    USER_FLAG = \"--user\"\n",
    "\n",
    "! pip3 install --upgrade google-cloud-aiplatform {USER_FLAG} -q google-cloud-bigquery db-dtypes\n",
    "! pip3 install -q --upgrade optuna==3.2.0 {USER_FLAG}\n",
    "! pip3 install -q --upgrade scikit-learn==1.2.* {USER_FLAG}\n",
    "! pip3 install -q --upgrade plotly==5.16.0 matplotlib==3.7.2 seaborn==0.12.2 {USER_FLAG}"
   ]
  },
  {
   "cell_type": "markdown",
   "metadata": {},
   "source": [
    "### Restart the kernel\n",
    "\n",
    "After you install the additional packages, you need to restart the notebook kernel so it can find the packages."
   ]
  },
  {
   "cell_type": "code",
   "execution_count": null,
   "metadata": {},
   "outputs": [],
   "source": [
    "# Automatically restart kernel after installs\n",
    "import os\n",
    "\n",
    "if not os.getenv(\"IS_TESTING\"):\n",
    "    # Automatically restart kernel after installs\n",
    "    import IPython\n",
    "\n",
    "    app = IPython.Application.instance()\n",
    "    app.kernel.do_shutdown(True)"
   ]
  },
  {
   "cell_type": "markdown",
   "metadata": {
    "tags": []
   },
   "source": [
    "## Before you begin"
   ]
  },
  {
   "cell_type": "markdown",
   "metadata": {},
   "source": [
    "#### Set your project ID\n",
    "\n",
    "**If you don't know your project ID**, you may be able to get your project ID using `gcloud`."
   ]
  },
  {
   "cell_type": "code",
   "execution_count": null,
   "metadata": {},
   "outputs": [],
   "source": [
    "PROJECT_ID = \"[YOUR-PROJECT-ID]\"\n",
    "\n",
    "# Get your Google Cloud project ID from gcloud\n",
    "import os\n",
    "\n",
    "if not os.getenv(\"IS_TESTING\"):\n",
    "    shell_output = !gcloud config list --format 'value(core.project)' 2>/dev/null\n",
    "    PROJECT_ID = shell_output[0]\n",
    "    print(\"Project ID:\", PROJECT_ID)"
   ]
  },
  {
   "cell_type": "markdown",
   "metadata": {},
   "source": [
    "Otherwise, set your project ID here."
   ]
  },
  {
   "cell_type": "code",
   "execution_count": null,
   "metadata": {},
   "outputs": [],
   "source": [
    "if PROJECT_ID == \"\" or PROJECT_ID is None:\n",
    "    PROJECT_ID = \"[your-project-id]\"  # @param {type:\"string\"}\n",
    "    \n",
    "print (\"Your set Project ID is:\", PROJECT_ID)"
   ]
  },
  {
   "cell_type": "code",
   "execution_count": null,
   "metadata": {},
   "outputs": [],
   "source": [
    "REGION = \"[your-region]\"  # @param {type: \"string\"}\n",
    "\n",
    "if REGION == \"[your-region]\":\n",
    "    REGION = \"us-central1\"\n",
    "    \n",
    "print ('REGION:', REGION)"
   ]
  },
  {
   "cell_type": "markdown",
   "metadata": {},
   "source": [
    "### Authenticate your Google Cloud account\n",
    "\n",
    "**If you are using Vertex AI Workbench Notebooks**, your environment is already\n",
    "authenticated. Skip this step."
   ]
  },
  {
   "cell_type": "markdown",
   "metadata": {},
   "source": [
    "**If you are using Colab**, run the cell below and follow the instructions\n",
    "when prompted to authenticate your account via oAuth.\n",
    "\n",
    "**Otherwise**, follow these steps:\n",
    "\n",
    "1. In the Cloud Console, go to the <a href=\"https://console.cloud.google.com/apis/credentials/serviceaccountkey\" target=\"_blank\">**Create service account key** page</a>.\n",
    "\n",
    "2. Click **Create service account**.\n",
    "\n",
    "3. In the **Service account name** field, enter a name, and\n",
    "   click **Create**.\n",
    "\n",
    "4. In the **Grant this service account access to project** section, click the **Role** drop-down list. Type \"Vertex AI\"\n",
    "into the filter box, and select\n",
    "   **Vertex AI Administrator**. Type \"Storage Object Admin\" into the filter box, and select **Storage Object Admin**.\n",
    "\n",
    "5. Click *Create*. A JSON file that contains your key downloads to your\n",
    "local environment.\n",
    "\n",
    "6. Enter the path to your service account key as the\n",
    "`GOOGLE_APPLICATION_CREDENTIALS` variable in the cell below and run the cell."
   ]
  },
  {
   "cell_type": "code",
   "execution_count": null,
   "metadata": {
    "colab": {
     "base_uri": "https://localhost:8080/"
    },
    "id": "gJxXVYlrtyEq",
    "outputId": "d93a029f-a87d-4201-be3f-1f217706fb8a"
   },
   "outputs": [],
   "source": [
    "# If you are running this notebook in Colab, run this cell and follow the\n",
    "# instructions to authenticate your GCP account.\n",
    "\n",
    "import os\n",
    "import sys\n",
    "\n",
    "# If on Vertex AI Workbench, then don't execute this code\n",
    "IS_COLAB = \"google.colab\" in sys.modules\n",
    "if not os.path.exists(\"/opt/deeplearning/metadata/env_version\") and not os.getenv(\n",
    "    \"DL_ANACONDA_HOME\"\n",
    "):\n",
    "    if \"google.colab\" in sys.modules:\n",
    "        from google.colab import auth as google_auth\n",
    "\n",
    "        google_auth.authenticate_user()\n",
    "\n",
    "    # If you are running this notebook locally, replace the string below with the\n",
    "    # path to your service account key and run this cell to authenticate your GCP\n",
    "    # account.\n",
    "    # elif not os.getenv(\"IS_TESTING\"):\n",
    "    #     %env GOOGLE_APPLICATION_CREDENTIALS ''"
   ]
  },
  {
   "cell_type": "code",
   "execution_count": null,
   "metadata": {},
   "outputs": [],
   "source": [
    "SERVICE_ACCOUNT = \"[your-service-account]\"  # @param {type:\"string\"}"
   ]
  },
  {
   "cell_type": "code",
   "execution_count": null,
   "metadata": {},
   "outputs": [],
   "source": [
    "if (\n",
    "    SERVICE_ACCOUNT == \"\"\n",
    "    or SERVICE_ACCOUNT is None\n",
    "    or SERVICE_ACCOUNT == \"[your-service-account]\"\n",
    "):\n",
    "    # Get your service account from gcloud\n",
    "    if not IS_COLAB:\n",
    "        shell_output = !gcloud config list account --format \"value(core.account)\"\n",
    "        SERVICE_ACCOUNT = shell_output[0].strip()\n",
    "\n",
    "    else:  # IS_COLAB:\n",
    "        shell_output = ! gcloud projects describe  $PROJECT_ID\n",
    "        project_number = shell_output[-1].split(\":\")[1].strip().replace(\"'\", \"\")\n",
    "        SERVICE_ACCOUNT = f\"{project_number}-compute@developer.gserviceaccount.com\"\n",
    "\n",
    "    print(\"Service Account:\", SERVICE_ACCOUNT)"
   ]
  },
  {
   "cell_type": "markdown",
   "metadata": {},
   "source": [
    "### Import libraries"
   ]
  },
  {
   "cell_type": "code",
   "execution_count": null,
   "metadata": {
    "cellView": "form",
    "id": "hSYrEiHgv8Ql"
   },
   "outputs": [],
   "source": [
    "import numpy as np\n",
    "import pandas as pd\n",
    "pd.options.plotting.backend = \"plotly\"\n",
    "\n",
    "import matplotlib.pyplot as plt\n",
    "import matplotlib.cm as cm\n",
    "import seaborn as sns\n",
    "import plotly\n",
    "\n",
    "import sklearn\n",
    "print('The scikit-learn version is {}.'.format(sklearn.__version__))\n",
    "from google.cloud import bigquery\n",
    "import jinja2\n",
    "import re\n",
    "\n",
    "import optuna\n",
    "optuna.logging.set_verbosity(optuna.logging.WARNING)\n",
    "\n",
    "from sklearn.pipeline import Pipeline\n",
    "from sklearn.cluster import KMeans, MiniBatchKMeans\n",
    "from sklearn.compose import ColumnTransformer\n",
    "from sklearn.preprocessing import FunctionTransformer\n",
    "from sklearn.feature_extraction.text import TfidfTransformer\n",
    "from sklearn.metrics import silhouette_samples, silhouette_score"
   ]
  },
  {
   "cell_type": "markdown",
   "metadata": {},
   "source": [
    "### Configuration"
   ]
  },
  {
   "cell_type": "code",
   "execution_count": null,
   "metadata": {
    "cellView": "form",
    "id": "M1Ju4cY-5CLd"
   },
   "outputs": [],
   "source": [
    "#@title Settings\n",
    "SRC_PROJECT_ID = '[your-maj-project-id]' #@param {type:\"string\"}\n",
    "SRC_DATASET_ID = 'marketing_ga4_v1_prod' #@param {type:\"string\"}\n",
    "DST_DATASET_ID = 'auto_audience_segmentation' #@param {type:\"string\"}\n",
    "\n",
    "DATE_START = \"2023-01-01\" #@param {type:\"date\"}\n",
    "DATE_END = \"2023-12-31\" #@param {type:\"date\"}\n",
    "LOOKBACK_DAYS = 15 #@param {type:\"integer\"}"
   ]
  },
  {
   "cell_type": "markdown",
   "metadata": {},
   "source": [
    "##### Creating BigQuery home dataset"
   ]
  },
  {
   "cell_type": "code",
   "execution_count": null,
   "metadata": {},
   "outputs": [],
   "source": [
    "from google.cloud import bigquery\n",
    "client = bigquery.Client(project=PROJECT_ID)\n",
    "dataset = bigquery.Dataset(f\"{PROJECT_ID}.{DST_DATASET_ID}\")\n",
    "dataset.location = \"US\"\n",
    "dataset = client.create_dataset(dataset, exists_ok=True, timeout=30)\n",
    "print(\"Created dataset {}.{}\".format(client.project, dataset.dataset_id))"
   ]
  },
  {
   "cell_type": "markdown",
   "metadata": {
    "id": "xYSspOtx4msG"
   },
   "source": [
    "## Creating Auto Generated Dataset"
   ]
  },
  {
   "cell_type": "code",
   "execution_count": null,
   "metadata": {
    "cellView": "form",
    "id": "k2NrZY9jLMoz"
   },
   "outputs": [],
   "source": [
    "#@markdown RE_PAGE PATH is the regex expression that tells the query what part of page path to extract. Example: ^https://your-website.com(/[a-z-0-9]*/?).*\n",
    "RE_PAGE_PATH = '[your-regex-expression]' #@param {type:\"string\"}\n",
    "\n",
    "#@markdown PERC_KEEP is the percent of cumulative traffic you'd like to keep. (Give me all pages/folders which combine for up to X% of all traffic)\n",
    "PERC_KEEP = 35 #@param {type:\"slider\", min:1, max:99, step:1}"
   ]
  },
  {
   "cell_type": "code",
   "execution_count": null,
   "metadata": {
    "id": "ZK5cVBhgKqHW"
   },
   "outputs": [],
   "source": [
    "client = bigquery.Client(project=PROJECT_ID)"
   ]
  },
  {
   "cell_type": "code",
   "execution_count": null,
   "metadata": {
    "id": "soxuYQSsKrhq"
   },
   "outputs": [],
   "source": [
    "sql = f\"\"\"\n",
    "SELECT\n",
    "    feature,\n",
    "    ROUND(100 * SUM(users) OVER (ORDER BY users DESC) / SUM(users) OVER (), 2) as cumulative_traffic_percent,\n",
    "\n",
    "FROM (\n",
    "    SELECT\n",
    "        REGEXP_EXTRACT(page_path, @RE_PAGE_PATH) as feature,\n",
    "        COUNT(DISTINCT user_id) as users\n",
    "\n",
    "    FROM (\n",
    "        SELECT\n",
    "            user_pseudo_id as user_id,\n",
    "            page_location as page_path\n",
    "        FROM `{SRC_PROJECT_ID}.{SRC_DATASET_ID}.event`\n",
    "        WHERE\n",
    "            event_name = 'page_view'\n",
    "            AND DATE(event_timestamp) BETWEEN @DATE_START AND @DATE_END\n",
    "    )\n",
    "    GROUP BY 1\n",
    ")\n",
    "WHERE\n",
    "    feature IS NOT NULL\n",
    "QUALIFY\n",
    "    cumulative_traffic_percent <= @PERC_KEEP\n",
    "ORDER BY 2 ASC\n",
    "\"\"\""
   ]
  },
  {
   "cell_type": "code",
   "execution_count": null,
   "metadata": {
    "id": "lAUS5p-h4ksN"
   },
   "outputs": [],
   "source": [
    "df = client.query(query=sql,\n",
    "                  job_config=bigquery.QueryJobConfig(\n",
    "                    query_parameters=[\n",
    "                        bigquery.ScalarQueryParameter(\"DATE_START\", \"DATE\", DATE_START),\n",
    "                        bigquery.ScalarQueryParameter(\"DATE_END\", \"DATE\", DATE_END),\n",
    "                        bigquery.ScalarQueryParameter(\"RE_PAGE_PATH\", \"STRING\", RE_PAGE_PATH),\n",
    "                        bigquery.ScalarQueryParameter(\"PERC_KEEP\", \"FLOAT64\", PERC_KEEP)\n",
    "                    ]\n",
    "                )\n",
    ").to_dataframe()"
   ]
  },
  {
   "cell_type": "code",
   "execution_count": null,
   "metadata": {
    "colab": {
     "base_uri": "https://localhost:8080/"
    },
    "id": "8lj9uiQGvjQt",
    "outputId": "cfb570ee-6ed4-49fb-ce94-057012040c4e"
   },
   "outputs": [],
   "source": [
    "print (f'Number of page path categories kept: {len(df)}')"
   ]
  },
  {
   "cell_type": "code",
   "execution_count": null,
   "metadata": {},
   "outputs": [],
   "source": [
    "df"
   ]
  },
  {
   "cell_type": "code",
   "execution_count": null,
   "metadata": {
    "id": "gxg2bKdTRFmZ"
   },
   "outputs": [],
   "source": [
    "def column_name_clean(f):\n",
    "    if f == '/' or f == '' or f is None: return 'homepage'\n",
    "    if f.startswith('/'): f = f[1:]\n",
    "    if f.endswith('/'): f = f[:-1]\n",
    "    return re.sub('[^0-9a-zA-Z]+', '_', f)"
   ]
  },
  {
   "cell_type": "code",
   "execution_count": null,
   "metadata": {
    "id": "4xyv99rmL7ks"
   },
   "outputs": [],
   "source": [
    "t = jinja2.Template(\"\"\"\n",
    "CREATE OR REPLACE PROCEDURE {{ DST_DATASET_ID }}.create_auto_audience_segmentation_dataset(\n",
    "  DATE_START DATE, DATE_END DATE, LOOKBACK_DAYS INT64\n",
    ")\n",
    "BEGIN\n",
    "\n",
    "    DECLARE RE_PAGE_PATH STRING DEFAULT \"{{ re_page_path|e }}\";\n",
    "    \n",
    "    CREATE OR REPLACE TABLE `{{ DST_DATASET_ID }}.auto_audience_segmentation_full_dataset`\n",
    "    AS\n",
    "    WITH \n",
    "        visitor_pool AS (\n",
    "            SELECT\n",
    "              user_pseudo_id,\n",
    "              MAX(event_timestamp) as feature_timestamp,\n",
    "              DATE(MAX(event_timestamp)) - LOOKBACK_DAYS as date_lookback\n",
    "            FROM `{{ PROJECT_ID }}.{{ DATASET_ID }}.event`\n",
    "            WHERE DATE(event_timestamp) BETWEEN DATE_START AND DATE_END\n",
    "            GROUP BY 1\n",
    "    )\n",
    "\n",
    "    SELECT\n",
    "        user_id,\n",
    "        feature_timestamp,\n",
    "        {% for f in features %}COUNTIF( REGEXP_EXTRACT(page_path, RE_PAGE_PATH) = '{{ f }}' ) as {{ column_name_clean(f) }},\n",
    "        {% endfor %}\n",
    "    FROM (\n",
    "        SELECT\n",
    "            vp.feature_timestamp,\n",
    "            ga.user_pseudo_id as user_id,\n",
    "            page_location as page_path\n",
    "        FROM `{{ PROJECT_ID }}.{{ DATASET_ID }}.event` as ga\n",
    "        INNER JOIN visitor_pool as vp\n",
    "            ON vp.user_pseudo_id = ga.user_pseudo_id\n",
    "                AND DATE(ga.event_timestamp) >= vp.date_lookback\n",
    "        WHERE\n",
    "            event_name = 'page_view'\n",
    "            AND DATE(ga.event_timestamp) BETWEEN DATE_START - LOOKBACK_DAYS AND DATE_END\n",
    "    )\n",
    "    GROUP BY 1, 2;\n",
    "\n",
    "END\n",
    "\"\"\")\n",
    "t.globals.update({'column_name_clean': column_name_clean})"
   ]
  },
  {
   "cell_type": "code",
   "execution_count": null,
   "metadata": {
    "id": "vk94UWo9PExu"
   },
   "outputs": [],
   "source": [
    "sql = t.render(\n",
    "        PROJECT_ID=SRC_PROJECT_ID,\n",
    "        DATASET_ID=SRC_DATASET_ID,\n",
    "        DST_DATASET_ID=DST_DATASET_ID,\n",
    "        re_page_path=RE_PAGE_PATH,\n",
    "        features=df.feature.tolist()\n",
    ")\n",
    "client.query(query=sql).result()\n",
    "client.query(\n",
    "    query=f\"CALL `{PROJECT_ID}.{DST_DATASET_ID}.create_auto_audience_segmentation_dataset`(@DATE_START, @DATE_END, @LOOKBACK_DAYS);\",\n",
    "    job_config=bigquery.QueryJobConfig(\n",
    "        query_parameters=[\n",
    "            bigquery.ScalarQueryParameter(\"DATE_START\", \"DATE\", DATE_START),\n",
    "            bigquery.ScalarQueryParameter(\"DATE_END\", \"DATE\", DATE_END),\n",
    "            bigquery.ScalarQueryParameter(\"LOOKBACK_DAYS\", \"INTEGER\", LOOKBACK_DAYS)\n",
    "        ]\n",
    "    )\n",
    ").result()"
   ]
  },
  {
   "cell_type": "code",
   "execution_count": null,
   "metadata": {
    "id": "jpOKPdAsOp85"
   },
   "outputs": [],
   "source": [
    "df = client.query(query=f\"SELECT * FROM `{PROJECT_ID}.{DST_DATASET_ID}.auto_audience_segmentation_full_dataset`\").to_dataframe()"
   ]
  },
  {
   "cell_type": "code",
   "execution_count": null,
   "metadata": {
    "colab": {
     "base_uri": "https://localhost:8080/",
     "height": 488
    },
    "id": "l2e3-LivTJ0O",
    "outputId": "1b28ef3e-41ee-4c5d-df46-2d7f370c30ed"
   },
   "outputs": [],
   "source": [
    "df"
   ]
  },
  {
   "cell_type": "markdown",
   "metadata": {
    "id": "aApnI4FUGEZV"
   },
   "source": [
    "## Cluster Model [for Interests on Site]"
   ]
  },
  {
   "cell_type": "code",
   "execution_count": null,
   "metadata": {
    "id": "B6LlKVeTTR3-"
   },
   "outputs": [],
   "source": [
    "X = df.copy()\n",
    "features = list(X.columns[2:])  # need to skip first two columns -> user_id, feature_timestamp\n",
    "min_num_clusters = 3\n",
    "max_num_clusters = len(features)"
   ]
  },
  {
   "cell_type": "code",
   "execution_count": null,
   "metadata": {
    "id": "Y6IPaEBxW_xq"
   },
   "outputs": [],
   "source": [
    "def create_model(params):\n",
    "    model = Pipeline([\n",
    "        ('transform', ColumnTransformer(\n",
    "            transformers=[\n",
    "                ('tfidf',\n",
    "                 TfidfTransformer(norm='l2'),\n",
    "                 list(range(2, len(features) + 2))  # need to skip first two columns -> user_id, feature_timestamp\n",
    "                )\n",
    "            ]\n",
    "        )),\n",
    "        ('model', KMeans(\n",
    "            init='k-means++', n_init='auto',\n",
    "            random_state=42,\n",
    "            **params)\n",
    "        )\n",
    "    ])\n",
    "\n",
    "    return model\n",
    "\n",
    "def objective(trial):\n",
    "    params = {\n",
    "      \"n_clusters\": trial.suggest_int(\"n_clusters\", min_num_clusters, max_num_clusters),\n",
    "      \"max_iter\": trial.suggest_int(\"max_iter\", 10, 1000, step=10),\n",
    "      \"tol\": trial.suggest_float(\"tol\", 1e-6, 1e-2, step=1e-6),\n",
    "    }\n",
    "\n",
    "    model = create_model(params)\n",
    "    model.fit(X)\n",
    "    labels = model.predict(X)\n",
    "\n",
    "    return silhouette_score(\n",
    "        model.named_steps['transform'].transform(X),\n",
    "        labels, metric='euclidean',\n",
    "        sample_size=int(len(df) * 0.1) if int(len(df) * 0.1) < 10_000 else 10_000,\n",
    "        random_state=42\n",
    "    ), params['n_clusters']"
   ]
  },
  {
   "cell_type": "code",
   "execution_count": null,
   "metadata": {
    "colab": {
     "base_uri": "https://localhost:8080/",
     "height": 1000,
     "referenced_widgets": [
      "13b98bf56a1f440bb79777e7b1830176",
      "777358fa145d4892b8e314cf25927a21",
      "3070539f3e3747a888620f25b097961b",
      "be875ed55aae4b8084041d0152c5c242",
      "5d9a0a95c6654bc2afe47cb1db05e223",
      "882f399734384ce7a69ddcdddfc3e2f5",
      "c7454e91123b4c32ba4a86f651b1659f",
      "384301bb5d7b4027b5ab555f51736904",
      "9f4ca2fa626e49d29fe2b77d0b378f2b",
      "d22fc51767a2425fb5d78b46d4d0fd7b",
      "610fa6f46ffc4ce9bc96fa31bf479b4a"
     ]
    },
    "id": "D03pzU4BOLFl",
    "outputId": "ea703b5a-328b-4580-d213-b5385619c218",
    "tags": []
   },
   "outputs": [],
   "source": [
    "study = optuna.create_study(\n",
    "    directions=[\"maximize\", \"minimize\"],\n",
    "    sampler=optuna.samplers.TPESampler(seed=42, n_startup_trials=25)\n",
    ")\n",
    "study.optimize(objective,\n",
    "               n_trials=125,\n",
    "               show_progress_bar=True,\n",
    "               n_jobs=-1\n",
    ")"
   ]
  },
  {
   "cell_type": "markdown",
   "metadata": {},
   "source": [
    "### Optimization Results"
   ]
  },
  {
   "cell_type": "code",
   "execution_count": null,
   "metadata": {
    "cellView": "form",
    "colab": {
     "base_uri": "https://localhost:8080/",
     "height": 542
    },
    "id": "9WMk5r1CQ7dG",
    "outputId": "e4602cd6-01c0-4959-ab7f-0c489cd7fef0"
   },
   "outputs": [],
   "source": [
    "fig = optuna.visualization.plot_pareto_front(study, target_names=['Silhuette', 'Num. Clusters'], include_dominated_trials=False)\n",
    "fig.show()"
   ]
  },
  {
   "cell_type": "markdown",
   "metadata": {},
   "source": [
    "#### Find a trial with the least number clusters while still retaining sufficient performance.\n",
    "**P_WIGGLE** is max percentage a trial can be worse than the best trial to be considered based on the Silhuette Score."
   ]
  },
  {
   "cell_type": "code",
   "execution_count": null,
   "metadata": {},
   "outputs": [],
   "source": [
    "P_WIGGLE = 10 #@param {type:\"slider\", min:1, max:99, step:1}"
   ]
  },
  {
   "cell_type": "code",
   "execution_count": null,
   "metadata": {
    "cellView": "form",
    "colab": {
     "base_uri": "https://localhost:8080/"
    },
    "id": "Cj3ezbi9SzzN",
    "outputId": "d8d575c0-2d1e-4494-bdaf-bf23c4231906"
   },
   "outputs": [],
   "source": [
    "best_trials = sorted([(t.number, t.values[0], t.values[1], t.params) for t in study.best_trials], key=lambda x: x[1], reverse=True)\n",
    "best_score = best_trials[0][1]\n",
    "best_trials = sorted([(t.number, t.values[0], t.values[1], t.params) for t in study.best_trials], key=lambda x: (x[2], x[1]))\n",
    "trial_chosen = None\n",
    "for t in best_trials:\n",
    "    if (1 - t[1]/best_score) <= P_WIGGLE/100:\n",
    "        print (f'TRIAL {t[0]}:')\n",
    "        print (f\" Num. clusters: {int(t[2])}\")\n",
    "        print (f\" Best score: {round(best_score, 4)} / Chosen trial Score: {round(t[1], 4)}\")\n",
    "        print (f\" % worse than best: {100 * round((1 - t[1]/best_score), 4)}%\")\n",
    "        print (f\" Params: {t[3]}\")\n",
    "\n",
    "        trial_chosen = t\n",
    "        break\n",
    "\n",
    "model = create_model(trial_chosen[3])\n",
    "model.fit(X)\n",
    "labels = model.predict(X)"
   ]
  },
  {
   "cell_type": "markdown",
   "metadata": {},
   "source": [
    "## Visualization"
   ]
  },
  {
   "cell_type": "markdown",
   "metadata": {},
   "source": [
    "### Silhouette Analysis"
   ]
  },
  {
   "cell_type": "code",
   "execution_count": null,
   "metadata": {
    "cellView": "form",
    "colab": {
     "base_uri": "https://localhost:8080/",
     "height": 724
    },
    "id": "QAhZp2DbcOjw",
    "outputId": "8733fefc-843c-44fe-88c1-170f3f4be910"
   },
   "outputs": [],
   "source": [
    "def silhouette_visualization(X, model):\n",
    "    np.random.seed(42)\n",
    "    # Create a subplot with 1 row and 2 columns\n",
    "    fig, ax1 = plt.subplots(1, 1)\n",
    "    fig.set_size_inches(18, 7)\n",
    "\n",
    "    sample = np.random.choice(len(X), \n",
    "                              size=int(len(X) * 0.1) if int(len(X) * 0.1) < 10_000 else 10_000)\n",
    "    model_cluster_centers = model.named_steps['model'].cluster_centers_\n",
    "    X_tr = model.named_steps['transform'].transform(X)\n",
    "\n",
    "    ax1.set_xlim([-0.1, 1])\n",
    "    ax1.set_ylim([0, len(sample) + (len(model_cluster_centers) + 1) * 10])\n",
    "\n",
    "    cluster_labels = model.predict(X)\n",
    "    print(\"Clustering done for n_clusters={}\".format(len(model_cluster_centers)))\n",
    "\n",
    "    cluster_labels = cluster_labels[sample]\n",
    "\n",
    "    # The silhouette_score gives the average value for all the samples.\n",
    "    # This gives a perspective into the density and separation of the formed\n",
    "    # clusters\n",
    "    silhouette_avg = silhouette_score(X_tr[ sample, :], cluster_labels)\n",
    "    print(\"For n_clusters =\", len(model_cluster_centers),\n",
    "          \"The average silhouette_score is :\", silhouette_avg)\n",
    "\n",
    "    # Compute the silhouette scores for each sample\n",
    "\n",
    "    sample_silhouette_values = silhouette_samples(X_tr[ sample, :], cluster_labels)\n",
    "\n",
    "    y_lower = 10\n",
    "    for i in range(len(model_cluster_centers)):\n",
    "        # Aggregate the silhouette scores for samples belonging to\n",
    "        # cluster i, and sort them\n",
    "        ith_cluster_silhouette_values = \\\n",
    "            sample_silhouette_values[cluster_labels == i]\n",
    "\n",
    "        ith_cluster_silhouette_values.sort()\n",
    "\n",
    "        size_cluster_i = ith_cluster_silhouette_values.shape[0]\n",
    "        y_upper = y_lower + size_cluster_i\n",
    "\n",
    "        color = cm.nipy_spectral(float(i) / len(model_cluster_centers))\n",
    "        ax1.fill_betweenx(np.arange(y_lower, y_upper),\n",
    "                          0, ith_cluster_silhouette_values,\n",
    "                          facecolor=color, edgecolor=color, alpha=0.7)\n",
    "\n",
    "        # Label the silhouette plots with their cluster numbers at the middle\n",
    "        ax1.text(-0.05, y_lower + 0.5 * size_cluster_i, str(i))\n",
    "\n",
    "        # Compute the new y_lower for next plot\n",
    "        y_lower = y_upper + 10  # 10 for the 0 samples\n",
    "\n",
    "    ax1.set_title(\"The silhouette plot.\")\n",
    "    ax1.set_xlabel(\"The silhouette coefficient values\")\n",
    "    ax1.set_ylabel(\"Cluster label\")\n",
    "\n",
    "    # The vertical line for average silhouette score of all the values\n",
    "    ax1.axvline(x=silhouette_avg, color=\"red\", linestyle=\"--\")\n",
    "\n",
    "    ax1.set_yticks([])  # Clear the yaxis labels / ticks\n",
    "    ax1.set_xticks([-0.1, 0, 0.2, 0.4, 0.6, 0.8, 1])\n",
    "\n",
    "    plt.suptitle(f\"Silhouette analysis for KMeans clustering on sample data with n_clusters = {len(model_cluster_centers)}\", \n",
    "                 fontsize=14, fontweight='bold')\n",
    "\n",
    "    plt.show()\n",
    "\n",
    "silhouette_visualization(X, model)"
   ]
  },
  {
   "cell_type": "markdown",
   "metadata": {},
   "source": [
    "### Heatmap"
   ]
  },
  {
   "cell_type": "code",
   "execution_count": null,
   "metadata": {
    "cellView": "form",
    "colab": {
     "base_uri": "https://localhost:8080/",
     "height": 1000
    },
    "id": "5Sv7ZejNosU6",
    "outputId": "7e2c860c-b099-44be-9573-e2900801ca4c"
   },
   "outputs": [],
   "source": [
    "model_cluster_centers = pd.DataFrame(model.named_steps['model'].cluster_centers_, columns=features)\n",
    "mcc = model_cluster_centers.T / model_cluster_centers.T.sum(axis=1).values.reshape(1, len(features)).T\n",
    "\n",
    "sns.set(font_scale=0.75)\n",
    "fig, ax = plt.subplots(figsize=(int(model_cluster_centers.shape[1]/2), model_cluster_centers.shape[0]/2))\n",
    "_ = sns.heatmap(mcc, ax=ax, cbar=False, annot=np.round(model_cluster_centers, 2).T)\n",
    "ax.set_title('Heatmap')\n",
    "ax.set(xlabel='Cluster')\n",
    "plt.yticks(rotation=0)\n",
    "plt.show()"
   ]
  },
  {
   "cell_type": "markdown",
   "metadata": {},
   "source": [
    "### Cluster Sizes"
   ]
  },
  {
   "cell_type": "code",
   "execution_count": null,
   "metadata": {
    "cellView": "form",
    "colab": {
     "base_uri": "https://localhost:8080/",
     "height": 542
    },
    "id": "XmlAwnOA89Nx",
    "outputId": "53181570-0e33-443f-9462-cac9436a5012"
   },
   "outputs": [],
   "source": [
    "c = np.array(np.bincount(labels), dtype=np.float64)\n",
    "c /= c.sum() /100\n",
    "df_c = pd.DataFrame(c, index=[f\"Cluster {n}\" for n in range(c.size)], columns=['Size %'])\n",
    "df_c.plot.bar()"
   ]
  },
  {
   "cell_type": "markdown",
   "metadata": {},
   "source": [
    "## [Optional] Deployment to Vertex AI Model Registry"
   ]
  },
  {
   "cell_type": "code",
   "execution_count": null,
   "metadata": {
    "id": "_f5sc789EXsA"
   },
   "outputs": [],
   "source": [
    "import pickle\n",
    "with open('model.pkl', 'wb') as f:\n",
    "    pickle.dump(model, f) "
   ]
  },
  {
   "cell_type": "code",
   "execution_count": null,
   "metadata": {},
   "outputs": [],
   "source": [
    "MODEL_NAME = f\"interest-cluster-model\"\n",
    "GCS_BUCKET=f'{PROJECT_ID}-maj-models'\n",
    "ARTIFACT_GCS_URI = f\"gs://{GCS_BUCKET}/{MODEL_NAME}\"\n",
    "PREBUILT_CONTAINER_URI = \"us-docker.pkg.dev/vertex-ai/prediction/sklearn-cpu.1-2:latest\""
   ]
  },
  {
   "cell_type": "code",
   "execution_count": null,
   "metadata": {},
   "outputs": [],
   "source": [
    "!gsutil mb -p $PROJECT_ID -l $REGION gs://$GCS_BUCKET"
   ]
  },
  {
   "cell_type": "code",
   "execution_count": null,
   "metadata": {},
   "outputs": [],
   "source": [
    "!gsutil cp model.pkl $ARTIFACT_GCS_URI/model.pkl\n",
    "!rm model.pkl"
   ]
  },
  {
   "cell_type": "code",
   "execution_count": null,
   "metadata": {},
   "outputs": [],
   "source": [
    "!gcloud ai models upload --region=$REGION --display-name=$MODEL_NAME --container-image-uri=$PREBUILT_CONTAINER_URI --artifact-uri=$ARTIFACT_GCS_URI"
   ]
  },
  {
   "cell_type": "code",
   "execution_count": null,
   "metadata": {},
   "outputs": [],
   "source": [
    "!gcloud ai models list --region=$REGION --filter=display_name=$MODEL_NAME"
   ]
  },
  {
   "cell_type": "markdown",
   "metadata": {},
   "source": [
    "## [Optional] Delete GCP Resources"
   ]
  },
  {
   "cell_type": "code",
   "execution_count": null,
   "metadata": {},
   "outputs": [],
   "source": [
    "import google.cloud.aiplatform as aiplatform\n",
    "aiplatform.init(project=PROJECT_ID, location=REGION)"
   ]
  },
  {
   "cell_type": "code",
   "execution_count": null,
   "metadata": {},
   "outputs": [],
   "source": [
    "for m in aiplatform.Model.list(filter=f\"display_name={MODEL_NAME}\", order_by=f\"create_time desc\"):\n",
    "    m.delete()"
   ]
  }
 ],
 "metadata": {
  "colab": {
   "provenance": []
  },
  "kernelspec": {
   "display_name": "Python 3 (ipykernel)",
   "language": "python",
   "name": "python3"
  },
  "language_info": {
   "codemirror_mode": {
    "name": "ipython",
    "version": 3
   },
   "file_extension": ".py",
   "mimetype": "text/x-python",
   "name": "python",
   "nbconvert_exporter": "python",
   "pygments_lexer": "ipython3",
   "version": "3.10.12"
  },
  "widgets": {
   "application/vnd.jupyter.widget-state+json": {
    "13b98bf56a1f440bb79777e7b1830176": {
     "model_module": "@jupyter-widgets/controls",
     "model_module_version": "1.5.0",
     "model_name": "HBoxModel",
     "state": {
      "_dom_classes": [],
      "_model_module": "@jupyter-widgets/controls",
      "_model_module_version": "1.5.0",
      "_model_name": "HBoxModel",
      "_view_count": null,
      "_view_module": "@jupyter-widgets/controls",
      "_view_module_version": "1.5.0",
      "_view_name": "HBoxView",
      "box_style": "",
      "children": [
       "IPY_MODEL_777358fa145d4892b8e314cf25927a21",
       "IPY_MODEL_3070539f3e3747a888620f25b097961b",
       "IPY_MODEL_be875ed55aae4b8084041d0152c5c242"
      ],
      "layout": "IPY_MODEL_5d9a0a95c6654bc2afe47cb1db05e223"
     }
    },
    "3070539f3e3747a888620f25b097961b": {
     "model_module": "@jupyter-widgets/controls",
     "model_module_version": "1.5.0",
     "model_name": "FloatProgressModel",
     "state": {
      "_dom_classes": [],
      "_model_module": "@jupyter-widgets/controls",
      "_model_module_version": "1.5.0",
      "_model_name": "FloatProgressModel",
      "_view_count": null,
      "_view_module": "@jupyter-widgets/controls",
      "_view_module_version": "1.5.0",
      "_view_name": "ProgressView",
      "bar_style": "success",
      "description": "",
      "description_tooltip": null,
      "layout": "IPY_MODEL_384301bb5d7b4027b5ab555f51736904",
      "max": 100,
      "min": 0,
      "orientation": "horizontal",
      "style": "IPY_MODEL_9f4ca2fa626e49d29fe2b77d0b378f2b",
      "value": 100
     }
    },
    "384301bb5d7b4027b5ab555f51736904": {
     "model_module": "@jupyter-widgets/base",
     "model_module_version": "1.2.0",
     "model_name": "LayoutModel",
     "state": {
      "_model_module": "@jupyter-widgets/base",
      "_model_module_version": "1.2.0",
      "_model_name": "LayoutModel",
      "_view_count": null,
      "_view_module": "@jupyter-widgets/base",
      "_view_module_version": "1.2.0",
      "_view_name": "LayoutView",
      "align_content": null,
      "align_items": null,
      "align_self": null,
      "border": null,
      "bottom": null,
      "display": null,
      "flex": null,
      "flex_flow": null,
      "grid_area": null,
      "grid_auto_columns": null,
      "grid_auto_flow": null,
      "grid_auto_rows": null,
      "grid_column": null,
      "grid_gap": null,
      "grid_row": null,
      "grid_template_areas": null,
      "grid_template_columns": null,
      "grid_template_rows": null,
      "height": null,
      "justify_content": null,
      "justify_items": null,
      "left": null,
      "margin": null,
      "max_height": null,
      "max_width": null,
      "min_height": null,
      "min_width": null,
      "object_fit": null,
      "object_position": null,
      "order": null,
      "overflow": null,
      "overflow_x": null,
      "overflow_y": null,
      "padding": null,
      "right": null,
      "top": null,
      "visibility": null,
      "width": null
     }
    },
    "5d9a0a95c6654bc2afe47cb1db05e223": {
     "model_module": "@jupyter-widgets/base",
     "model_module_version": "1.2.0",
     "model_name": "LayoutModel",
     "state": {
      "_model_module": "@jupyter-widgets/base",
      "_model_module_version": "1.2.0",
      "_model_name": "LayoutModel",
      "_view_count": null,
      "_view_module": "@jupyter-widgets/base",
      "_view_module_version": "1.2.0",
      "_view_name": "LayoutView",
      "align_content": null,
      "align_items": null,
      "align_self": null,
      "border": null,
      "bottom": null,
      "display": null,
      "flex": null,
      "flex_flow": null,
      "grid_area": null,
      "grid_auto_columns": null,
      "grid_auto_flow": null,
      "grid_auto_rows": null,
      "grid_column": null,
      "grid_gap": null,
      "grid_row": null,
      "grid_template_areas": null,
      "grid_template_columns": null,
      "grid_template_rows": null,
      "height": null,
      "justify_content": null,
      "justify_items": null,
      "left": null,
      "margin": null,
      "max_height": null,
      "max_width": null,
      "min_height": null,
      "min_width": null,
      "object_fit": null,
      "object_position": null,
      "order": null,
      "overflow": null,
      "overflow_x": null,
      "overflow_y": null,
      "padding": null,
      "right": null,
      "top": null,
      "visibility": null,
      "width": null
     }
    },
    "610fa6f46ffc4ce9bc96fa31bf479b4a": {
     "model_module": "@jupyter-widgets/controls",
     "model_module_version": "1.5.0",
     "model_name": "DescriptionStyleModel",
     "state": {
      "_model_module": "@jupyter-widgets/controls",
      "_model_module_version": "1.5.0",
      "_model_name": "DescriptionStyleModel",
      "_view_count": null,
      "_view_module": "@jupyter-widgets/base",
      "_view_module_version": "1.2.0",
      "_view_name": "StyleView",
      "description_width": ""
     }
    },
    "777358fa145d4892b8e314cf25927a21": {
     "model_module": "@jupyter-widgets/controls",
     "model_module_version": "1.5.0",
     "model_name": "HTMLModel",
     "state": {
      "_dom_classes": [],
      "_model_module": "@jupyter-widgets/controls",
      "_model_module_version": "1.5.0",
      "_model_name": "HTMLModel",
      "_view_count": null,
      "_view_module": "@jupyter-widgets/controls",
      "_view_module_version": "1.5.0",
      "_view_name": "HTMLView",
      "description": "",
      "description_tooltip": null,
      "layout": "IPY_MODEL_882f399734384ce7a69ddcdddfc3e2f5",
      "placeholder": "​",
      "style": "IPY_MODEL_c7454e91123b4c32ba4a86f651b1659f",
      "value": "100%"
     }
    },
    "882f399734384ce7a69ddcdddfc3e2f5": {
     "model_module": "@jupyter-widgets/base",
     "model_module_version": "1.2.0",
     "model_name": "LayoutModel",
     "state": {
      "_model_module": "@jupyter-widgets/base",
      "_model_module_version": "1.2.0",
      "_model_name": "LayoutModel",
      "_view_count": null,
      "_view_module": "@jupyter-widgets/base",
      "_view_module_version": "1.2.0",
      "_view_name": "LayoutView",
      "align_content": null,
      "align_items": null,
      "align_self": null,
      "border": null,
      "bottom": null,
      "display": null,
      "flex": null,
      "flex_flow": null,
      "grid_area": null,
      "grid_auto_columns": null,
      "grid_auto_flow": null,
      "grid_auto_rows": null,
      "grid_column": null,
      "grid_gap": null,
      "grid_row": null,
      "grid_template_areas": null,
      "grid_template_columns": null,
      "grid_template_rows": null,
      "height": null,
      "justify_content": null,
      "justify_items": null,
      "left": null,
      "margin": null,
      "max_height": null,
      "max_width": null,
      "min_height": null,
      "min_width": null,
      "object_fit": null,
      "object_position": null,
      "order": null,
      "overflow": null,
      "overflow_x": null,
      "overflow_y": null,
      "padding": null,
      "right": null,
      "top": null,
      "visibility": null,
      "width": null
     }
    },
    "9f4ca2fa626e49d29fe2b77d0b378f2b": {
     "model_module": "@jupyter-widgets/controls",
     "model_module_version": "1.5.0",
     "model_name": "ProgressStyleModel",
     "state": {
      "_model_module": "@jupyter-widgets/controls",
      "_model_module_version": "1.5.0",
      "_model_name": "ProgressStyleModel",
      "_view_count": null,
      "_view_module": "@jupyter-widgets/base",
      "_view_module_version": "1.2.0",
      "_view_name": "StyleView",
      "bar_color": null,
      "description_width": ""
     }
    },
    "be875ed55aae4b8084041d0152c5c242": {
     "model_module": "@jupyter-widgets/controls",
     "model_module_version": "1.5.0",
     "model_name": "HTMLModel",
     "state": {
      "_dom_classes": [],
      "_model_module": "@jupyter-widgets/controls",
      "_model_module_version": "1.5.0",
      "_model_name": "HTMLModel",
      "_view_count": null,
      "_view_module": "@jupyter-widgets/controls",
      "_view_module_version": "1.5.0",
      "_view_name": "HTMLView",
      "description": "",
      "description_tooltip": null,
      "layout": "IPY_MODEL_d22fc51767a2425fb5d78b46d4d0fd7b",
      "placeholder": "​",
      "style": "IPY_MODEL_610fa6f46ffc4ce9bc96fa31bf479b4a",
      "value": " 100/100 [03:50&lt;00:00,  2.57s/it]"
     }
    },
    "c7454e91123b4c32ba4a86f651b1659f": {
     "model_module": "@jupyter-widgets/controls",
     "model_module_version": "1.5.0",
     "model_name": "DescriptionStyleModel",
     "state": {
      "_model_module": "@jupyter-widgets/controls",
      "_model_module_version": "1.5.0",
      "_model_name": "DescriptionStyleModel",
      "_view_count": null,
      "_view_module": "@jupyter-widgets/base",
      "_view_module_version": "1.2.0",
      "_view_name": "StyleView",
      "description_width": ""
     }
    },
    "d22fc51767a2425fb5d78b46d4d0fd7b": {
     "model_module": "@jupyter-widgets/base",
     "model_module_version": "1.2.0",
     "model_name": "LayoutModel",
     "state": {
      "_model_module": "@jupyter-widgets/base",
      "_model_module_version": "1.2.0",
      "_model_name": "LayoutModel",
      "_view_count": null,
      "_view_module": "@jupyter-widgets/base",
      "_view_module_version": "1.2.0",
      "_view_name": "LayoutView",
      "align_content": null,
      "align_items": null,
      "align_self": null,
      "border": null,
      "bottom": null,
      "display": null,
      "flex": null,
      "flex_flow": null,
      "grid_area": null,
      "grid_auto_columns": null,
      "grid_auto_flow": null,
      "grid_auto_rows": null,
      "grid_column": null,
      "grid_gap": null,
      "grid_row": null,
      "grid_template_areas": null,
      "grid_template_columns": null,
      "grid_template_rows": null,
      "height": null,
      "justify_content": null,
      "justify_items": null,
      "left": null,
      "margin": null,
      "max_height": null,
      "max_width": null,
      "min_height": null,
      "min_width": null,
      "object_fit": null,
      "object_position": null,
      "order": null,
      "overflow": null,
      "overflow_x": null,
      "overflow_y": null,
      "padding": null,
      "right": null,
      "top": null,
      "visibility": null,
      "width": null
     }
    }
   }
  }
 },
 "nbformat": 4,
 "nbformat_minor": 4
}
