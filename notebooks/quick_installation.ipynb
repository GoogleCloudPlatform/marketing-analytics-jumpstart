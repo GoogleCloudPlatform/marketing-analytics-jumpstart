{
  "nbformat": 4,
  "nbformat_minor": 0,
  "metadata": {
    "colab": {
      "provenance": []
    },
    "kernelspec": {
      "name": "python3",
      "display_name": "Python 3"
    },
    "language_info": {
      "name": "python"
    }
  },
  "cells": [
    {
      "cell_type": "markdown",
      "source": [
        "# Marketing Analytics Jumpstart Quick Installation\n",
        "\n",
        "\n",
        "<table align=\"left\">\n",
        "  <td style=\"text-align: center\">\n",
        "    <a href=\"https://colab.research.google.com/github/GoogleCloudPlatform/marketing-analytics-jumpstart/blob/main/notebooks/quick_installation.ipynb\">\n",
        "      <img width=\"32px\" src=\"https://www.gstatic.com/pantheon/images/bigquery/welcome_page/colab-logo.svg\" alt=\"Google Colaboratory logo\"><br> Run in Colab\n",
        "    </a>\n",
        "  </td>\n",
        "  <td style=\"text-align: center\">\n",
        "    <a href=\"https://console.cloud.google.com/vertex-ai/colab/import/https:%2F%2Fraw.githubusercontent.com%2FGoogleCloudPlatform%2Fmarketing-analytics-jumpstart%2Fmain%2Fnotebooks%2quick_installation.ipynb\">\n",
        "      <img width=\"32px\" src=\"https://lh3.googleusercontent.com/JmcxdQi-qOpctIvWKgPtrzZdJJK-J3sWE1RsfjZNwshCFgE_9fULcNpuXYTilIR2hjwN\" alt=\"Google Cloud Colab Enterprise logo\"><br> Run in Colab Enterprise\n",
        "    </a>\n",
        "  </td>\n",
        "  <td style=\"text-align: center\">\n",
        "    <a href=\"https://github.com/GoogleCloudPlatform/marketing-analytics-jumpstart/blob/main/notebooks/quick_installation.ipynb\">\n",
        "      <img width=\"32px\" src=\"https://upload.wikimedia.org/wikipedia/commons/9/91/Octicons-mark-github.svg\" alt=\"GitHub logo\"><br> View on GitHub\n",
        "    </a>\n",
        "  </td>\n",
        "  <td style=\"text-align: center\">\n",
        "    <a href=\"https://console.cloud.google.com/vertex-ai/workbench/deploy-notebook?download_url=https://raw.githubusercontent.com/GoogleCloudPlatform/marketing-analytics-jumpstart/main/notebooks/quick_installation.ipynb\">\n",
        "      <img src=\"https://www.gstatic.com/images/branding/gcpiconscolors/vertexai/v1/32px.svg\" alt=\"Vertex AI logo\"><br> Open in Vertex AI Workbench\n",
        "    </a>\n",
        "  </td>\n",
        "</table>"
      ],
      "metadata": {
        "id": "AKtB_GVpt2QJ"
      }
    },
    {
      "cell_type": "markdown",
      "source": [
        "Follow this Colab notebook to quick install the Marketing Analytics Jumpstart solution on a Google Cloud Project.\n",
        "\n",
        "> **Note:** You need access to the Google Analytics 4 Property, Google Ads Account and a Google Cloud project in which you will deploy Marketing Analytics Jumpstart, with the following permissions:\n",
        ">> * Google Analytics Property Editor or Owner\n",
        ">>\n",
        ">> * Google Ads Reader\n",
        ">>\n",
        ">> * Project Owner for a Google Cloud Project\n",
        ">>\n",
        ">> * GitHub or GitLab account priviledges for repo creation and access token. [Details](https://cloud.google.com/dataform/docs/connect-repository)\n",
        "\n",
        "\n",
        "\n",
        "Total Installation time is around **35-40 minutes**."
      ],
      "metadata": {
        "id": "mj-8n9jIyTn-"
      }
    },
    {
      "cell_type": "markdown",
      "source": [
        "### 1. Authenticate to Google Cloud Platform\n",
        "\n",
        "Click the ( ▶ ) button to authenticate you to the Google Cloud Project.\n",
        "\n",
        "***Time: 30 seconds.***"
      ],
      "metadata": {
        "id": "DDGHqJNhq5Oi"
      }
    },
    {
      "cell_type": "code",
      "source": [
        "# @title\n",
        "from google.colab import auth\n",
        "auth.authenticate_user()\n",
        "\n",
        "print('Authenticated')"
      ],
      "metadata": {
        "id": "9TyPgnleJGGZ",
        "cellView": "form",
        "colab": {
          "base_uri": "https://localhost:8080/"
        },
        "outputId": "0051c92e-932a-4067-941a-728c76623b28"
      },
      "execution_count": null,
      "outputs": [
        {
          "output_type": "stream",
          "name": "stdout",
          "text": [
            "Authenticated\n"
          ]
        }
      ]
    },
    {
      "cell_type": "markdown",
      "source": [
        "### 2. Installation Configurations\n",
        "\n",
        "Fill-out the form, and Click the ( ▶ ) button.\n",
        "\n",
        "***Time: 10 minutes.***"
      ],
      "metadata": {
        "id": "mq1yqwr8qcx1"
      }
    },
    {
      "cell_type": "code",
      "source": [
        "# @markdown ---\n",
        "# @markdown # Google Cloud Platform\n",
        "# @markdown Copy the `Project ID` from the \"Project Info\" card in the console [Dashboard](https://console.cloud.google.com/home/dashboard).\n",
        "GOOGLE_CLOUD_PROJECT_ID = \"your-project-id\" #@param {type:\"string\"}\n",
        "GOOGLE_CLOUD_QUOTA_PROJECT = GOOGLE_CLOUD_PROJECT_ID\n",
        "PROJECT_ID = GOOGLE_CLOUD_PROJECT_ID\n",
        "MAJ_DEFAULT_PROJECT_ID = GOOGLE_CLOUD_PROJECT_ID\n",
        "# @markdown ---\n",
        "# @markdown # Google Analytics 4\n",
        "# @markdown For a quick installation, copy the Google Analytics 4 property ID and stream ID. You will find it in your Google Analytics 4 console, under Admin settings.\n",
        "GA4_PROPERTY_ID = \"1234567890\" #@param {type:\"string\"}\n",
        "MAJ_GA4_PROPERTY_ID = GA4_PROPERTY_ID\n",
        "GA4_STREAM_ID = \"1234567890\" #@param {type:\"string\"}\n",
        "MAJ_GA4_STREAM_ID = GA4_STREAM_ID\n",
        "# @markdown The website your Google Analytics 4 events are coming from.\n",
        "WEBSITE_URL = \"https://shop.googlemerchandisestore.com\" #@param {type:\"string\", placeholder:\"Full web URL\"}\n",
        "MAJ_WEBSITE_URL = WEBSITE_URL\n",
        "# @markdown ---\n",
        "# @markdown # Google Ads\n",
        "# @markdown For a quick installation, copy the Google Ads Customer ID. You will find it in your Google Ads console. It must be in the following format: `\"CUSTOMERID\"` (without dashes).\n",
        "GOOGLE_ADS_CUSTOMER_ID= \"1234567890\" #@param {type:\"string\", placeholder:\"GAds Account Number (e.g. 4717384083)\"}\n",
        "MAJ_ADS_EXPORT_TABLE_SUFFIX = \"_\"+GOOGLE_ADS_CUSTOMER_ID\n",
        "# @markdown ---\n",
        "# @markdown # Github\n",
        "# @markdown For a quick installation, use your email credentials that allows you to create a dataform repository connected to a remote Github repository, more info [here](https://cloud.google.com/dataform/docs/connect-repository).\n",
        "GITHUB_REPO_OWNER_EMAIL = \"user@company.com\" #@param {type:\"string\", placeholder:\"user@company.com\"}\n",
        "MAJ_DATAFORM_REPO_OWNER_EMAIL = GITHUB_REPO_OWNER_EMAIL\n",
        "MAJ_DATAFORM_GITHUB_REPO_URL = \"https://github.com/GoogleCloudPlatform/marketing-analytics-jumpstart-dataform.git\"\n",
        "# @markdown For a quick installation, reuse or create your [GitHub personal access token](https://cloud.google.com/dataform/docs/connect-repository#connect-https)\n",
        "GITHUB_PERSONAL_TOKEN = \"your_github_personal_access_token\" #@param {type:\"string\"}\n",
        "MAJ_DATAFORM_GITHUB_TOKEN = GITHUB_PERSONAL_TOKEN\n",
        "# @markdown ---\n",
        "\n",
        "import os\n",
        "os.environ['GOOGLE_CLOUD_PROJECT_ID'] = GOOGLE_CLOUD_PROJECT_ID\n",
        "os.environ['GOOGLE_CLOUD_QUOTA_PROJECT'] = GOOGLE_CLOUD_QUOTA_PROJECT\n",
        "os.environ['PROJECT_ID'] = PROJECT_ID\n",
        "os.environ['MAJ_DEFAULT_PROJECT_ID'] = MAJ_DEFAULT_PROJECT_ID\n",
        "!export SOURCE_ROOT=$(pwd)\n",
        "!export TERRAFORM_RUN_DIR={SOURCE_ROOT}/infrastructure/terraform\n",
        "REPO=\"marketing-analytics-jumpstart\"\n",
        "!if [ ! -d \"/content/{REPO}\" ]; then git clone https://github.com/GoogleCloudPlatform/{REPO}.git ; fi\n",
        "SOURCE_ROOT=\"/content/\"+REPO\n",
        "%cd {SOURCE_ROOT}\n",
        "!echo \"Enabling APIs\"\n",
        "!gcloud config set project {GOOGLE_CLOUD_PROJECT_ID}\n",
        "!. ~/.bashrc\n",
        "!gcloud projects add-iam-policy-binding {GOOGLE_CLOUD_PROJECT_ID} --member user:{MAJ_DATAFORM_REPO_OWNER_EMAIL} --role=roles/bigquery.admin\n",
        "!source ./scripts/common.sh && enable_all_apis > /dev/null\n",
        "!echo \"APIs enabled\"\n",
        "\n",
        "from google.cloud import bigquery\n",
        "# Construct a BigQuery client object.\n",
        "client = bigquery.Client(project=GOOGLE_CLOUD_PROJECT_ID)\n",
        "# Replace with your desired dataset ID suffix\n",
        "dataset_id_suffix = MAJ_GA4_PROPERTY_ID\n",
        "location = ''\n",
        "dataset_id = ''\n",
        "# Iterate through datasets and find the one with the matching suffix\n",
        "for dataset in client.list_datasets():\n",
        "    dataset_id = dataset.dataset_id\n",
        "    if dataset_id.endswith(dataset_id_suffix):\n",
        "        dataset_ref = client.get_dataset(dataset.reference)\n",
        "        location = dataset_ref.location\n",
        "        print(f\"GA4 Dataset ID: {dataset_id}, Location: {location}\")\n",
        "        break\n",
        "else:\n",
        "    print(f\"No dataset found with ID suffix: {dataset_id_suffix}\")\n",
        "MAJ_MDS_DATA_LOCATION = location\n",
        "MAJ_GA4_EXPORT_PROJECT_ID = GOOGLE_CLOUD_PROJECT_ID\n",
        "MAJ_GA4_EXPORT_DATASET = dataset_id\n",
        "\n",
        "if MAJ_MDS_DATA_LOCATION == 'US':\n",
        "  MAJ_DEFAULT_REGION = 'us-central1'\n",
        "elif MAJ_MDS_DATA_LOCATION == 'EU':\n",
        "  MAJ_DEFAULT_REGION = 'europe-west1'\n",
        "else:\n",
        "  MAJ_DEFAULT_REGION = MAJ_MDS_DATA_LOCATION\n",
        "MAJ_MDS_PROJECT_ID=MAJ_DEFAULT_PROJECT_ID\n",
        "MAJ_MDS_DATAFORM_PROJECT_ID=MAJ_DEFAULT_PROJECT_ID\n",
        "MAJ_FEATURE_STORE_PROJECT_ID=MAJ_DEFAULT_PROJECT_ID\n",
        "MAJ_ACTIVATION_PROJECT_ID=MAJ_DEFAULT_PROJECT_ID\n",
        "MAJ_ADS_EXPORT_PROJECT_ID = GOOGLE_CLOUD_PROJECT_ID\n",
        "project_id=MAJ_ADS_EXPORT_PROJECT_ID\n",
        "location = MAJ_MDS_DATA_LOCATION\n",
        "table_suffix = MAJ_ADS_EXPORT_TABLE_SUFFIX\n",
        "# Query to find datasets that contain tables with the specified suffix.\n",
        "query = f\"\"\"\n",
        "    SELECT table_schema as dataset_id\n",
        "    FROM `{project_id}.region-{location}.INFORMATION_SCHEMA.TABLES`\n",
        "    WHERE table_name LIKE '%{table_suffix}'\n",
        "    GROUP BY table_schema\n",
        "\"\"\"\n",
        "# Run the query and fetch the results.\n",
        "query_job = client.query(query)\n",
        "results = query_job.result()\n",
        "# Print the dataset IDs that match the criteria.\n",
        "ads_dataset_id = ''\n",
        "for row in results:\n",
        "    ads_dataset_id = row.dataset_id\n",
        "    print(f\"GAds dataset: {row.dataset_id}, Location: {location}\")\n",
        "MAJ_ADS_EXPORT_DATASET = ads_dataset_id\n",
        "\n",
        "os.environ['MAJ_DEFAULT_REGION'] = MAJ_DEFAULT_REGION\n",
        "os.environ['MAJ_MDS_PROJECT_ID'] = MAJ_MDS_PROJECT_ID\n",
        "os.environ['MAJ_MDS_DATAFORM_PROJECT_ID'] = MAJ_MDS_DATAFORM_PROJECT_ID\n",
        "os.environ['MAJ_FEATURE_STORE_PROJECT_ID'] = MAJ_FEATURE_STORE_PROJECT_ID\n",
        "os.environ['MAJ_ACTIVATION_PROJECT_ID'] = MAJ_ACTIVATION_PROJECT_ID\n",
        "os.environ['MAJ_MDS_DATA_LOCATION'] = MAJ_MDS_DATA_LOCATION\n",
        "os.environ['MAJ_GA4_EXPORT_PROJECT_ID'] = MAJ_GA4_EXPORT_PROJECT_ID\n",
        "os.environ['MAJ_GA4_EXPORT_DATASET'] = MAJ_GA4_EXPORT_DATASET\n",
        "os.environ['MAJ_ADS_EXPORT_PROJECT_ID'] = MAJ_ADS_EXPORT_PROJECT_ID\n",
        "os.environ['MAJ_ADS_EXPORT_DATASET'] = MAJ_ADS_EXPORT_DATASET\n",
        "os.environ['MAJ_ADS_EXPORT_TABLE_SUFFIX'] = MAJ_ADS_EXPORT_TABLE_SUFFIX\n",
        "os.environ['MAJ_WEBSITE_URL'] = MAJ_WEBSITE_URL\n",
        "os.environ['MAJ_GA4_PROPERTY_ID'] = MAJ_GA4_PROPERTY_ID\n",
        "os.environ['MAJ_GA4_STREAM_ID'] = MAJ_GA4_STREAM_ID\n",
        "os.environ['MAJ_DATAFORM_REPO_OWNER_EMAIL'] = MAJ_DATAFORM_REPO_OWNER_EMAIL\n",
        "os.environ['MAJ_DATAFORM_GITHUB_REPO_URL'] = MAJ_DATAFORM_GITHUB_REPO_URL\n",
        "os.environ['MAJ_DATAFORM_GITHUB_TOKEN'] = MAJ_DATAFORM_GITHUB_TOKEN\n",
        "\n",
        "!sudo apt-get -qq -o=Dpkg::Use-Pty=0 install gettext\n",
        "!envsubst < \"{SOURCE_ROOT}/infrastructure/cloudshell/terraform-template.tfvars\" > \"{SOURCE_ROOT}/infrastructure/terraform/terraform.tfvars\"\n",
        "\n",
        "!gcloud config set disable_prompts true\n",
        "!gcloud config set project {PROJECT_ID}\n",
        "\n",
        "from IPython.display import clear_output\n",
        "clear_output(wait=True)\n",
        "print(\"SUCCESS\")"
      ],
      "metadata": {
        "id": "dMcepKg8IQWj",
        "cellView": "form",
        "colab": {
          "base_uri": "https://localhost:8080/"
        },
        "outputId": "6abb8686-27d9-4a4d-bd25-bafd7ebc1a1c"
      },
      "execution_count": null,
      "outputs": [
        {
          "output_type": "stream",
          "name": "stdout",
          "text": [
            "SUCCESS\n"
          ]
        }
      ]
    },
    {
      "cell_type": "markdown",
      "source": [
        "### 3. Authenticate using application default credentials Google Cloud Platform\n",
        "\n",
        "Click the ( ▶ ) button to create your Terraform application default credentials to the Google Cloud Project.\n",
        "\n",
        "*To complete this step, you will be prompted to copy/paste a password from another window into the prompt below.*\n",
        "\n",
        "**Note:** *Click on the hidden input box after the colon, as shown below.*\n",
        "\n",
        "![image (14).png](data:image/png;base64,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)\n",
        "\n",
        "***Time: 2 minute.***"
      ],
      "metadata": {
        "id": "mOISt4ShqIbc"
      }
    },
    {
      "cell_type": "code",
      "source": [
        "# @title\n",
        "!gcloud config set disable_prompts false\n",
        "!gcloud auth application-default login --quiet --scopes=\"openid,https://www.googleapis.com/auth/userinfo.email,https://www.googleapis.com/auth/cloud-platform,https://www.googleapis.com/auth/sqlservice.login,https://www.googleapis.com/auth/analytics,https://www.googleapis.com/auth/analytics.edit,https://www.googleapis.com/auth/analytics.provision,https://www.googleapis.com/auth/analytics.readonly,https://www.googleapis.com/auth/accounts.reauth\"\n",
        "!gcloud auth application-default set-quota-project {PROJECT_ID}\n",
        "!export GOOGLE_APPLICATION_CREDENTIALS=/content/.config/application_default_credentials.json\n",
        "\n",
        "clear_output(wait=True)\n",
        "print(\"SUCCESS\")"
      ],
      "metadata": {
        "id": "3cAwp6CRLSVf",
        "colab": {
          "base_uri": "https://localhost:8080/"
        },
        "outputId": "39d3a2a0-811c-4506-d197-af7a7e086d74",
        "cellView": "form"
      },
      "execution_count": null,
      "outputs": [
        {
          "output_type": "stream",
          "name": "stdout",
          "text": [
            "SUCCESS\n"
          ]
        }
      ]
    },
    {
      "cell_type": "markdown",
      "source": [
        "### 4. Prepare environment for Installation\n",
        "\n",
        "Click the ( ▶ ) button to prepare the environment for an end-to-end installation.\n",
        "\n",
        "***Time: 5 minutes.***"
      ],
      "metadata": {
        "id": "WYG5sjFEqX2X"
      }
    },
    {
      "cell_type": "code",
      "source": [
        "# @title\n",
        "%%capture\n",
        "%%bash\n",
        "# prompt: install packages\n",
        "apt-get install python3.10\n",
        "CLOUDSDK_PYTHON=python3.10\n",
        "\n",
        "#prompt: install uv\n",
        "curl -LsSf https://astral.sh/uv/install.sh | sh\n",
        "\n",
        "export PATH=\"/root/.local/bin:$PATH\"\n",
        "uv --version\n",
        "\n",
        "git clone --depth=1 https://github.com/tfutils/tfenv.git ~/.tfenv\n",
        "echo 'export PATH=\"~/.tfenv/bin:$PATH\"' >> ~/.bash_profile\n",
        "echo 'export PATH=$PATH:~/.tfenv/bin' >> ~/.bashrc\n",
        "export PATH=\"$PATH:~/.tfenv/bin\"\n",
        "\n",
        "mkdir -p ~/.local/bin/\n",
        ". ~/.profile\n",
        "ln -s ~/.tfenv/bin/* ~/.local/bin\n",
        "which tfenv\n",
        "tfenv --version\n",
        "\n",
        "tfenv install 1.9.7\n",
        "tfenv use 1.9.7\n",
        "terraform --version\n",
        "\n",
        "export PATH=\"$PATH:~/.tfenv/bin\"\n",
        "export PROJECT_ID=$(gcloud config get project --format=json | tr -d '\"')\n",
        "source ./scripts/generate-tf-backend.sh"
      ],
      "metadata": {
        "id": "hmdklTTuQ_9d",
        "cellView": "form"
      },
      "execution_count": null,
      "outputs": []
    },
    {
      "cell_type": "markdown",
      "source": [
        "### 5. Run Installation\n",
        "\n",
        "Click the ( ▶ ) button to run the installation end-to-end.\n",
        "After clicking the button, expand this section to observe that all cells have successfully executed without issues.\n",
        "\n",
        "***Time: 25-30 minutes.***"
      ],
      "metadata": {
        "id": "US36yJ8lmqnP"
      }
    },
    {
      "cell_type": "code",
      "source": [
        "# @title\n",
        "%%capture\n",
        "%%bash\n",
        "export PATH=\"$PATH:~/.tfenv/bin\"\n",
        "export GOOGLE_APPLICATION_CREDENTIALS=/content/.config/application_default_credentials.json\n",
        "TERRAFORM_RUN_DIR=$(pwd)/infrastructure/terraform\n",
        "terraform -chdir=\"${TERRAFORM_RUN_DIR}\" init"
      ],
      "metadata": {
        "id": "5UIbC_z9bgy4",
        "cellView": "form"
      },
      "execution_count": null,
      "outputs": []
    },
    {
      "cell_type": "code",
      "source": [
        "# @title\n",
        "%%capture\n",
        "%%bash\n",
        "export PATH=\"$PATH:~/.tfenv/bin\"\n",
        "export PATH=\"/root/.local/bin:$PATH\"\n",
        "export PATH=\"$PATH:$(which gcloud)\"\n",
        "export GOOGLE_APPLICATION_CREDENTIALS=/content/.config/application_default_credentials.json\n",
        "TERRAFORM_RUN_DIR=$(pwd)/infrastructure/terraform\n",
        "terraform -chdir=\"${TERRAFORM_RUN_DIR}\" apply -target=module.data_store -auto-approve"
      ],
      "metadata": {
        "id": "BGteib5ebsA-",
        "cellView": "form"
      },
      "execution_count": null,
      "outputs": []
    },
    {
      "cell_type": "code",
      "source": [
        "# @title\n",
        "%%capture\n",
        "%%bash\n",
        "export PATH=\"$PATH:~/.tfenv/bin\"\n",
        "export PATH=\"/root/.local/bin:$PATH\"\n",
        "export PATH=\"$PATH:$(which gcloud)\"\n",
        "export GOOGLE_APPLICATION_CREDENTIALS=/content/.config/application_default_credentials.json\n",
        "TERRAFORM_RUN_DIR=$(pwd)/infrastructure/terraform\n",
        "terraform -chdir=\"${TERRAFORM_RUN_DIR}\" apply -target=module.feature_store -auto-approve"
      ],
      "metadata": {
        "cellView": "form",
        "id": "dwD5DRRM2Ryl"
      },
      "execution_count": null,
      "outputs": []
    },
    {
      "cell_type": "code",
      "source": [
        "# @title\n",
        "%%capture\n",
        "%%bash\n",
        "export PATH=\"$PATH:~/.tfenv/bin\"\n",
        "export PATH=\"/root/.local/bin:$PATH\"\n",
        "export PATH=\"$PATH:$(which gcloud)\"\n",
        "export GOOGLE_APPLICATION_CREDENTIALS=/content/.config/application_default_credentials.json\n",
        "TERRAFORM_RUN_DIR=$(pwd)/infrastructure/terraform\n",
        "terraform -chdir=\"${TERRAFORM_RUN_DIR}\" apply -target=module.pipelines -auto-approve"
      ],
      "metadata": {
        "cellView": "form",
        "id": "KrEr1yXS1_oA"
      },
      "execution_count": null,
      "outputs": []
    },
    {
      "cell_type": "code",
      "source": [
        "# @title\n",
        "%%capture\n",
        "%%bash\n",
        "export PATH=\"$PATH:~/.tfenv/bin\"\n",
        "export PATH=\"/root/.local/bin:$PATH\"\n",
        "export PATH=\"$PATH:$(which gcloud)\"\n",
        "export GOOGLE_APPLICATION_CREDENTIALS=/content/.config/application_default_credentials.json\n",
        "TERRAFORM_RUN_DIR=$(pwd)/infrastructure/terraform\n",
        "terraform -chdir=\"${TERRAFORM_RUN_DIR}\" apply -target=module.activation -auto-approve"
      ],
      "metadata": {
        "collapsed": true,
        "cellView": "form",
        "id": "7-Qr46vR2bLl"
      },
      "execution_count": null,
      "outputs": []
    },
    {
      "cell_type": "code",
      "source": [
        "# @title\n",
        "%%capture\n",
        "%%bash\n",
        "export PATH=\"$PATH:~/.tfenv/bin\"\n",
        "export PATH=\"/root/.local/bin:$PATH\"\n",
        "export PATH=\"$PATH:$(which gcloud)\"\n",
        "export GOOGLE_APPLICATION_CREDENTIALS=/content/.config/application_default_credentials.json\n",
        "TERRAFORM_RUN_DIR=$(pwd)/infrastructure/terraform\n",
        "terraform -chdir=\"${TERRAFORM_RUN_DIR}\" apply -target=module.monitoring -auto-approve"
      ],
      "metadata": {
        "collapsed": true,
        "cellView": "form",
        "id": "ElOBpEV3Mtbc"
      },
      "execution_count": null,
      "outputs": []
    },
    {
      "cell_type": "code",
      "source": [
        "# @title\n",
        "%%capture\n",
        "%%bash\n",
        "export PATH=\"$PATH:~/.tfenv/bin\"\n",
        "export PATH=\"/root/.local/bin:$PATH\"\n",
        "export PATH=\"$PATH:$(which gcloud)\"\n",
        "export GOOGLE_APPLICATION_CREDENTIALS=/content/.config/application_default_credentials.json\n",
        "TERRAFORM_RUN_DIR=$(pwd)/infrastructure/terraform\n",
        "terraform -chdir=\"${TERRAFORM_RUN_DIR}\" apply -auto-approve"
      ],
      "metadata": {
        "cellView": "form",
        "id": "eyZNdewu2zQI"
      },
      "execution_count": null,
      "outputs": []
    },
    {
      "cell_type": "code",
      "source": [
        "# @title\n",
        "print(\"SUCCESS!\")"
      ],
      "metadata": {
        "id": "1h7k6jFYpLPO",
        "colab": {
          "base_uri": "https://localhost:8080/"
        },
        "outputId": "266267e5-ac12-4621-ec7f-19e051027edb",
        "cellView": "form"
      },
      "execution_count": null,
      "outputs": [
        {
          "output_type": "stream",
          "name": "stdout",
          "text": [
            "SUCCESS!\n"
          ]
        }
      ]
    }
  ]
}