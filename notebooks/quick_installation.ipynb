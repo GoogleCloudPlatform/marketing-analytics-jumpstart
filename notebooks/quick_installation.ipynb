{
  "nbformat": 4,
  "nbformat_minor": 0,
  "metadata": {
    "colab": {
      "provenance": []
    },
    "kernelspec": {
      "name": "python3",
      "display_name": "Python 3"
    },
    "language_info": {
      "name": "python"
    }
  },
  "cells": [
    {
      "cell_type": "markdown",
      "source": [
        "# Marketing Analytics Jumpstart Quick Installation\n",
        "\n",
        "\n",
        "<table align=\"left\">\n",
        "  <td style=\"text-align: center\">\n",
        "    <a href=\"https://colab.research.google.com/github/GoogleCloudPlatform/marketing-analytics-jumpstart/blob/main/notebooks/quick_installation.ipynb\">\n",
        "      <img width=\"32px\" src=\"https://www.gstatic.com/pantheon/images/bigquery/welcome_page/colab-logo.svg\" alt=\"Google Colaboratory logo\"><br> Run in Colab\n",
        "    </a>\n",
        "  </td>\n",
        "  <td style=\"text-align: center\">\n",
        "    <a href=\"https://console.cloud.google.com/vertex-ai/colab/import/https:%2F%2Fraw.githubusercontent.com%2FGoogleCloudPlatform%2Fmarketing-analytics-jumpstart%2Fmain%2Fnotebooks%2quick_installation.ipynb\">\n",
        "      <img width=\"32px\" src=\"https://lh3.googleusercontent.com/JmcxdQi-qOpctIvWKgPtrzZdJJK-J3sWE1RsfjZNwshCFgE_9fULcNpuXYTilIR2hjwN\" alt=\"Google Cloud Colab Enterprise logo\"><br> Run in Colab Enterprise\n",
        "    </a>\n",
        "  </td>\n",
        "  <td style=\"text-align: center\">\n",
        "    <a href=\"https://github.com/GoogleCloudPlatform/marketing-analytics-jumpstart/blob/main/notebooks/quick_installation.ipynb\">\n",
        "      <img width=\"32px\" src=\"https://upload.wikimedia.org/wikipedia/commons/9/91/Octicons-mark-github.svg\" alt=\"GitHub logo\"><br> View on GitHub\n",
        "    </a>\n",
        "  </td>\n",
        "  <td style=\"text-align: center\">\n",
        "    <a href=\"https://console.cloud.google.com/vertex-ai/workbench/deploy-notebook?download_url=https://raw.githubusercontent.com/GoogleCloudPlatform/marketing-analytics-jumpstart/main/notebooks/quick_installation.ipynb\">\n",
        "      <img src=\"https://www.gstatic.com/images/branding/gcpiconscolors/vertexai/v1/32px.svg\" alt=\"Vertex AI logo\"><br> Open in Vertex AI Workbench\n",
        "    </a>\n",
        "  </td>\n",
        "</table>"
      ],
      "metadata": {
        "id": "AKtB_GVpt2QJ"
      }
    },
    {
      "cell_type": "markdown",
      "source": [
        "Follow this Colab notebook to quick install the Marketing Analytics Jumpstart solution on a Google Cloud Project."
      ],
      "metadata": {
        "id": "mj-8n9jIyTn-"
      }
    },
    {
      "cell_type": "code",
      "source": [
        "# @title Input Google Cloud Project ID\n",
        "# prompt: set PROJECT_ID env variable and run gcloud set project\n",
        "\n",
        "GOOGLE_CLOUD_PROJECT = \"marketing-analytics-jumpstart-project-id\" #@param {type:\"string\"}\n",
        "GOOGLE_CLOUD_QUOTA_PROJECT = GOOGLE_CLOUD_PROJECT\n",
        "PROJECT_ID = GOOGLE_CLOUD_PROJECT\n",
        "!gcloud config set disable_prompts true\n",
        "!gcloud config set project {PROJECT_ID}"
      ],
      "metadata": {
        "id": "dMcepKg8IQWj"
      },
      "execution_count": null,
      "outputs": []
    },
    {
      "cell_type": "code",
      "source": [
        "# @title Authenticate to Google Cloud Platform\n",
        "# prompt: authenticate to google cloud project\n",
        "from google.colab import auth\n",
        "auth.authenticate_user()"
      ],
      "metadata": {
        "id": "9TyPgnleJGGZ"
      },
      "execution_count": 1,
      "outputs": []
    },
    {
      "cell_type": "code",
      "source": [
        "# @title Authenticate using application default credentials Google Cloud Platform\n",
        "!gcloud config set disable_prompts false\n",
        "!gcloud auth application-default login --quiet --scopes=\"openid,https://www.googleapis.com/auth/userinfo.email,https://www.googleapis.com/auth/cloud-platform,https://www.googleapis.com/auth/sqlservice.login,https://www.googleapis.com/auth/analytics,https://www.googleapis.com/auth/analytics.edit,https://www.googleapis.com/auth/analytics.provision,https://www.googleapis.com/auth/analytics.readonly,https://www.googleapis.com/auth/accounts.reauth\"\n",
        "!gcloud auth application-default set-quota-project {PROJECT_ID}\n",
        "!export GOOGLE_APPLICATION_CREDENTIALS=/content/.config/application_default_credentials.json"
      ],
      "metadata": {
        "id": "3cAwp6CRLSVf"
      },
      "execution_count": null,
      "outputs": []
    },
    {
      "cell_type": "code",
      "execution_count": null,
      "metadata": {
        "id": "wBOKo_6aF-GS"
      },
      "outputs": [],
      "source": [
        "# prompt: git clone a repository and setting cd to it\n",
        "REPO=\"marketing-analytics-jumpstart\"\n",
        "!if [ ! -d \"/content/{REPO}\" ]; then git clone https://github.com/GoogleCloudPlatform/{REPO}.git ; fi\n",
        "SOURCE_ROOT=\"/content/\"+REPO\n",
        "%cd {SOURCE_ROOT}"
      ]
    },
    {
      "cell_type": "code",
      "source": [
        "%%bash\n",
        "# prompt: install packages\n",
        "apt-get install python3.10\n",
        "CLOUDSDK_PYTHON=python3.10\n",
        "\n",
        "#pip3 install poetry\n",
        "sudo apt update\n",
        "sudo apt install pipx\n",
        "pipx ensurepath\n",
        "pipx install poetry\n",
        "\n",
        "export PATH=\"/root/.local/bin:$PATH\"\n",
        "poetry env use python3.10\n",
        "poetry --version\n",
        "\n",
        "git clone --depth=1 https://github.com/tfutils/tfenv.git ~/.tfenv\n",
        "echo 'export PATH=\"~/.tfenv/bin:$PATH\"' >> ~/.bash_profile\n",
        "echo 'export PATH=$PATH:~/.tfenv/bin' >> ~/.bashrc\n",
        "export PATH=\"$PATH:~/.tfenv/bin\"\n",
        "\n",
        "mkdir -p ~/.local/bin/\n",
        ". ~/.profile\n",
        "ln -s ~/.tfenv/bin/* ~/.local/bin\n",
        "which tfenv\n",
        "tfenv --version\n",
        "\n",
        "tfenv install 1.5.7\n",
        "tfenv use 1.5.7\n",
        "terraform --version\n",
        "\n",
        "export PATH=\"$PATH:~/.tfenv/bin\"\n",
        "export PROJECT_ID=$(gcloud config get project --format=json | tr -d '\"')\n",
        "source ./scripts/generate-tf-backend.sh"
      ],
      "metadata": {
        "id": "hmdklTTuQ_9d"
      },
      "execution_count": null,
      "outputs": []
    },
    {
      "cell_type": "code",
      "source": [
        "%%bash\n",
        "TERRAFORM_RUN_DIR=$(pwd)/infrastructure/terraform\n",
        "cp $TERRAFORM_RUN_DIR/terraform-sample.tfvars $TERRAFORM_RUN_DIR/terraform.tfvars -v"
      ],
      "metadata": {
        "id": "NDQl55V1WkwK"
      },
      "execution_count": null,
      "outputs": []
    },
    {
      "cell_type": "code",
      "source": [
        "%%bash\n",
        "export PATH=\"$PATH:~/.tfenv/bin\"\n",
        "export GOOGLE_APPLICATION_CREDENTIALS=/content/.config/application_default_credentials.json\n",
        "TERRAFORM_RUN_DIR=$(pwd)/infrastructure/terraform\n",
        "terraform -chdir=\"${TERRAFORM_RUN_DIR}\" init"
      ],
      "metadata": {
        "id": "5UIbC_z9bgy4"
      },
      "execution_count": null,
      "outputs": []
    },
    {
      "cell_type": "code",
      "source": [
        "%%bash\n",
        "export PATH=\"$PATH:~/.tfenv/bin\"\n",
        "export PATH=\"/root/.local/bin:$PATH\"\n",
        "export GOOGLE_APPLICATION_CREDENTIALS=/content/.config/application_default_credentials.json\n",
        "TERRAFORM_RUN_DIR=$(pwd)/infrastructure/terraform\n",
        "terraform -chdir=\"${TERRAFORM_RUN_DIR}\" apply -auto-approve"
      ],
      "metadata": {
        "id": "BGteib5ebsA-"
      },
      "execution_count": null,
      "outputs": []
    }
  ]
}