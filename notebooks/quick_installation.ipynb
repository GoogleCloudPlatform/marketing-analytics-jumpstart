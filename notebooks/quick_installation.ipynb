{
  "nbformat": 4,
  "nbformat_minor": 0,
  "metadata": {
    "colab": {
      "provenance": [],
      "collapsed_sections": [
        "DDGHqJNhq5Oi",
        "mOISt4ShqIbc",
        "US36yJ8lmqnP"
      ]
    },
    "kernelspec": {
      "name": "python3",
      "display_name": "Python 3"
    },
    "language_info": {
      "name": "python"
    }
  },
  "cells": [
    {
      "cell_type": "markdown",
      "source": [
        "# Marketing Analytics Jumpstart Quick Installation\n",
        "\n",
        "\n",
        "<table align=\"left\">\n",
        "  <td style=\"text-align: center\">\n",
        "    <a href=\"https://colab.research.google.com/github/GoogleCloudPlatform/marketing-analytics-jumpstart/blob/main/notebooks/quick_installation.ipynb\">\n",
        "      <img width=\"32px\" src=\"https://www.gstatic.com/pantheon/images/bigquery/welcome_page/colab-logo.svg\" alt=\"Google Colaboratory logo\"><br> Run in Colab\n",
        "    </a>\n",
        "  </td>\n",
        "  <td style=\"text-align: center\">\n",
        "    <a href=\"https://console.cloud.google.com/vertex-ai/colab/import/https:%2F%2Fraw.githubusercontent.com%2FGoogleCloudPlatform%2Fmarketing-analytics-jumpstart%2Fmain%2Fnotebooks%2quick_installation.ipynb\">\n",
        "      <img width=\"32px\" src=\"https://lh3.googleusercontent.com/JmcxdQi-qOpctIvWKgPtrzZdJJK-J3sWE1RsfjZNwshCFgE_9fULcNpuXYTilIR2hjwN\" alt=\"Google Cloud Colab Enterprise logo\"><br> Run in Colab Enterprise\n",
        "    </a>\n",
        "  </td>\n",
        "  <td style=\"text-align: center\">\n",
        "    <a href=\"https://github.com/GoogleCloudPlatform/marketing-analytics-jumpstart/blob/main/notebooks/quick_installation.ipynb\">\n",
        "      <img width=\"32px\" src=\"https://upload.wikimedia.org/wikipedia/commons/9/91/Octicons-mark-github.svg\" alt=\"GitHub logo\"><br> View on GitHub\n",
        "    </a>\n",
        "  </td>\n",
        "  <td style=\"text-align: center\">\n",
        "    <a href=\"https://console.cloud.google.com/vertex-ai/workbench/deploy-notebook?download_url=https://raw.githubusercontent.com/GoogleCloudPlatform/marketing-analytics-jumpstart/main/notebooks/quick_installation.ipynb\">\n",
        "      <img src=\"https://www.gstatic.com/images/branding/gcpiconscolors/vertexai/v1/32px.svg\" alt=\"Vertex AI logo\"><br> Open in Vertex AI Workbench\n",
        "    </a>\n",
        "  </td>\n",
        "</table>"
      ],
      "metadata": {
        "id": "AKtB_GVpt2QJ"
      }
    },
    {
      "cell_type": "markdown",
      "source": [
        "Follow this Colab notebook to quick install the Marketing Analytics Jumpstart solution on a Google Cloud Project.\n",
        "\n",
        "> **Note:** You need access to the Google Analytics 4 Property, Google Ads Account and a Google Cloud project in which you will deploy Marketing Analytics Jumpstart, with the following permissions:\n",
        ">> * Google Analytics Property Editor or Owner\n",
        ">>\n",
        ">> * Google Ads Reader\n",
        ">>\n",
        ">> * Project Owner for a Google Cloud Project\n",
        ">>\n",
        ">> * GitHub or GitLab account priviledges for repo creation and access token. [Details](https://cloud.google.com/dataform/docs/connect-repository)\n",
        "\n",
        "\n",
        "\n",
        "Total Installation time is around **25-30 minutes**."
      ],
      "metadata": {
        "id": "mj-8n9jIyTn-"
      }
    },
    {
      "cell_type": "markdown",
      "source": [
        "### 1. Authenticate to Google Cloud Platform\n",
        "\n",
        "Click the ( ▶ ) button to authenticate you to the Google Cloud Project.\n",
        "\n",
        "***Time: 30 seconds.***"
      ],
      "metadata": {
        "id": "DDGHqJNhq5Oi"
      }
    },
    {
      "cell_type": "code",
      "source": [
        "# @title\n",
        "from google.colab import auth\n",
        "auth.authenticate_user()\n",
        "\n",
        "print('Authenticated')"
      ],
      "metadata": {
        "id": "9TyPgnleJGGZ",
        "cellView": "form"
      },
      "execution_count": null,
      "outputs": []
    },
    {
      "cell_type": "markdown",
      "source": [
        "### 2. Installation Configurations\n",
        "\n",
        "Fill-out the form, and Click the ( ▶ ) button.\n",
        "\n",
        "***Time: 10 minutes.***"
      ],
      "metadata": {
        "id": "mq1yqwr8qcx1"
      }
    },
    {
      "cell_type": "code",
      "source": [
        "# @markdown ---\n",
        "# @markdown # Google Cloud Platform\n",
        "# @markdown Copy the `Project ID` from the \"Project Info\" card in the console [Dashboard](https://console.cloud.google.com/home/dashboard).\n",
        "GOOGLE_CLOUD_PROJECT_ID = \"your-project-id\" #@param {type:\"string\"}\n",
        "GOOGLE_CLOUD_QUOTA_PROJECT = GOOGLE_CLOUD_PROJECT_ID\n",
        "PROJECT_ID = GOOGLE_CLOUD_PROJECT_ID\n",
        "MAJ_DEFAULT_PROJECT_ID = GOOGLE_CLOUD_PROJECT_ID\n",
        "# @markdown ---\n",
        "# @markdown # Google Analytics 4\n",
        "# @markdown For a quick installation, copy the Google Analytics 4 property ID and stream ID. You will find it in your Google Analytics 4 console, under Admin settings.\n",
        "MAJ_GA4_PROPERTY_ID = \"1234567890\" #@param {type:\"string\"}\n",
        "MAJ_GA4_STREAM_ID = \"1234567890\" #@param {type:\"string\"}\n",
        "# @markdown The website your Google Analytics 4 events are coming from.\n",
        "MAJ_WEBSITE_URL = \"https://shop.googlemerchandisestore.com\" #@param {type:\"string\", placeholder:\"Full web URL\"}\n",
        "# @markdown ---\n",
        "# @markdown # Google Ads\n",
        "# @markdown For a quick installation, copy the Google Ads Customer ID. You will find it in your Google Ads console. It must be in the following format: `\"CUSTOMERID\"` (without dashes).\n",
        "MAJ_ADS_EXPORT_TABLE_SUFFIX = \"1234567890\" #@param {type:\"string\", placeholder:\"GAds Account Number (e.g. 4717384083)\"}\n",
        "MAJ_ADS_EXPORT_TABLE_SUFFIX = \"_\"+MAJ_ADS_EXPORT_TABLE_SUFFIX\n",
        "# @markdown ---\n",
        "# @markdown # Github\n",
        "# @markdown For a quick installation, use your email credentials that allows you to create a dataform repository connected to a remote Github repository, more info [here](https://cloud.google.com/dataform/docs/connect-repository).\n",
        "MAJ_DATAFORM_REPO_OWNER_EMAIL = \"user@company.com\" #@param {type:\"string\", placeholder:\"user@company.com\"}\n",
        "MAJ_DATAFORM_GITHUB_REPO_URL = \"https://github.com/GoogleCloudPlatform/marketing-analytics-jumpstart-dataform.git\"\n",
        "# @markdown For a quick installation, reuse or create your [GitHub personal access token](https://cloud.google.com/dataform/docs/connect-repository#connect-https)\n",
        "MAJ_DATAFORM_GITHUB_TOKEN = \"Your github token\" #@param {type:\"string\"}\n",
        "# @markdown ---\n",
        "\n",
        "import os\n",
        "os.environ['GOOGLE_CLOUD_PROJECT_ID'] = GOOGLE_CLOUD_PROJECT_ID\n",
        "os.environ['GOOGLE_CLOUD_QUOTA_PROJECT'] = GOOGLE_CLOUD_QUOTA_PROJECT\n",
        "os.environ['PROJECT_ID'] = PROJECT_ID\n",
        "os.environ['MAJ_DEFAULT_PROJECT_ID'] = MAJ_DEFAULT_PROJECT_ID\n",
        "!export SOURCE_ROOT=$(pwd)\n",
        "!export TERRAFORM_RUN_DIR={SOURCE_ROOT}/infrastructure/terraform\n",
        "REPO=\"marketing-analytics-jumpstart\"\n",
        "!if [ ! -d \"/content/{REPO}\" ]; then git clone https://github.com/GoogleCloudPlatform/{REPO}.git ; fi\n",
        "SOURCE_ROOT=\"/content/\"+REPO\n",
        "%cd {SOURCE_ROOT}\n",
        "!echo \"Enabling APIs\"\n",
        "!gcloud config set project {GOOGLE_CLOUD_PROJECT_ID}\n",
        "!. ~/.bashrc\n",
        "!gcloud projects add-iam-policy-binding {GOOGLE_CLOUD_PROJECT_ID} --member user:{MAJ_DATAFORM_REPO_OWNER_EMAIL} --role=roles/bigquery.admin\n",
        "!source ./scripts/common.sh && enable_all_apis > /dev/null\n",
        "!echo \"APIs enabled\"\n",
        "\n",
        "from google.cloud import bigquery\n",
        "# Construct a BigQuery client object.\n",
        "client = bigquery.Client(project=GOOGLE_CLOUD_PROJECT_ID)\n",
        "# Replace with your desired dataset ID suffix\n",
        "dataset_id_suffix = MAJ_GA4_PROPERTY_ID\n",
        "location = ''\n",
        "dataset_id = ''\n",
        "# Iterate through datasets and find the one with the matching suffix\n",
        "for dataset in client.list_datasets():\n",
        "    dataset_id = dataset.dataset_id\n",
        "    if dataset_id.endswith(dataset_id_suffix):\n",
        "        dataset_ref = client.get_dataset(dataset.reference)\n",
        "        location = dataset_ref.location\n",
        "        print(f\"GA4 Dataset ID: {dataset_id}, Location: {location}\")\n",
        "        break\n",
        "else:\n",
        "    print(f\"No dataset found with ID suffix: {dataset_id_suffix}\")\n",
        "MAJ_MDS_DATA_LOCATION = location\n",
        "MAJ_GA4_EXPORT_PROJECT_ID = GOOGLE_CLOUD_PROJECT_ID\n",
        "MAJ_GA4_EXPORT_DATASET = dataset_id\n",
        "\n",
        "if MAJ_MDS_DATA_LOCATION == 'US':\n",
        "  MAJ_DEFAULT_REGION = 'us-central1'\n",
        "elif MAJ_MDS_DATA_LOCATION == 'EU':\n",
        "  MAJ_DEFAULT_REGION = 'europe-west1'\n",
        "else:\n",
        "  MAJ_DEFAULT_REGION = MAJ_MDS_DATA_LOCATION\n",
        "MAJ_MDS_PROJECT_ID=MAJ_DEFAULT_PROJECT_ID\n",
        "MAJ_MDS_DATAFORM_PROJECT_ID=MAJ_DEFAULT_PROJECT_ID\n",
        "MAJ_FEATURE_STORE_PROJECT_ID=MAJ_DEFAULT_PROJECT_ID\n",
        "MAJ_ACTIVATION_PROJECT_ID=MAJ_DEFAULT_PROJECT_ID\n",
        "MAJ_ADS_EXPORT_PROJECT_ID = GOOGLE_CLOUD_PROJECT_ID\n",
        "project_id=MAJ_ADS_EXPORT_PROJECT_ID\n",
        "location = MAJ_MDS_DATA_LOCATION\n",
        "table_suffix = MAJ_ADS_EXPORT_TABLE_SUFFIX\n",
        "# Query to find datasets that contain tables with the specified suffix.\n",
        "query = f\"\"\"\n",
        "    SELECT table_schema as dataset_id\n",
        "    FROM `{project_id}.region-{location}.INFORMATION_SCHEMA.TABLES`\n",
        "    WHERE table_name LIKE '%{table_suffix}'\n",
        "    GROUP BY table_schema\n",
        "\"\"\"\n",
        "# Run the query and fetch the results.\n",
        "query_job = client.query(query)\n",
        "results = query_job.result()\n",
        "# Print the dataset IDs that match the criteria.\n",
        "ads_dataset_id = ''\n",
        "for row in results:\n",
        "    ads_dataset_id = row.dataset_id\n",
        "    print(f\"GAds dataset: {row.dataset_id}, Location: {location}\")\n",
        "MAJ_ADS_EXPORT_DATASET = ads_dataset_id\n",
        "\n",
        "os.environ['MAJ_DEFAULT_REGION'] = MAJ_DEFAULT_REGION\n",
        "os.environ['MAJ_MDS_PROJECT_ID'] = MAJ_MDS_PROJECT_ID\n",
        "os.environ['MAJ_MDS_DATAFORM_PROJECT_ID'] = MAJ_MDS_DATAFORM_PROJECT_ID\n",
        "os.environ['MAJ_FEATURE_STORE_PROJECT_ID'] = MAJ_FEATURE_STORE_PROJECT_ID\n",
        "os.environ['MAJ_ACTIVATION_PROJECT_ID'] = MAJ_ACTIVATION_PROJECT_ID\n",
        "os.environ['MAJ_MDS_DATA_LOCATION'] = MAJ_MDS_DATA_LOCATION\n",
        "os.environ['MAJ_GA4_EXPORT_PROJECT_ID'] = MAJ_GA4_EXPORT_PROJECT_ID\n",
        "os.environ['MAJ_GA4_EXPORT_DATASET'] = MAJ_GA4_EXPORT_DATASET\n",
        "os.environ['MAJ_ADS_EXPORT_PROJECT_ID'] = MAJ_ADS_EXPORT_PROJECT_ID\n",
        "os.environ['MAJ_ADS_EXPORT_DATASET'] = MAJ_ADS_EXPORT_DATASET\n",
        "os.environ['MAJ_ADS_EXPORT_TABLE_SUFFIX'] = MAJ_ADS_EXPORT_TABLE_SUFFIX\n",
        "os.environ['MAJ_WEBSITE_URL'] = MAJ_WEBSITE_URL\n",
        "os.environ['MAJ_GA4_PROPERTY_ID'] = MAJ_GA4_PROPERTY_ID\n",
        "os.environ['MAJ_GA4_STREAM_ID'] = MAJ_GA4_STREAM_ID\n",
        "os.environ['MAJ_DATAFORM_REPO_OWNER_EMAIL'] = MAJ_DATAFORM_REPO_OWNER_EMAIL\n",
        "os.environ['MAJ_DATAFORM_GITHUB_REPO_URL'] = MAJ_DATAFORM_GITHUB_REPO_URL\n",
        "os.environ['MAJ_DATAFORM_GITHUB_TOKEN'] = MAJ_DATAFORM_GITHUB_TOKEN\n",
        "\n",
        "!sudo apt-get -qq -o=Dpkg::Use-Pty=0 install gettext\n",
        "!envsubst < \"{SOURCE_ROOT}/infrastructure/cloudshell/terraform-template.tfvars\" > \"{SOURCE_ROOT}/infrastructure/terraform/terraform.tfvars\"\n",
        "\n",
        "!gcloud config set disable_prompts true\n",
        "!gcloud config set project {PROJECT_ID}\n",
        "\n",
        "from IPython.display import clear_output\n",
        "clear_output(wait=True)\n",
        "print(\"SUCCESS\")"
      ],
      "metadata": {
        "id": "dMcepKg8IQWj",
        "cellView": "form"
      },
      "execution_count": null,
      "outputs": []
    },
    {
      "cell_type": "markdown",
      "source": [
        "### 3. Authenticate using application default credentials Google Cloud Platform\n",
        "\n",
        "Click the ( ▶ ) button to create your Terraform application default credentials to the Google Cloud Project.\n",
        "\n",
        "*To complete this step, you will be prompted to copy/paste a password from another window into the prompt below*\n",
        "\n",
        "***Time: 2 minute.***"
      ],
      "metadata": {
        "id": "mOISt4ShqIbc"
      }
    },
    {
      "cell_type": "code",
      "source": [
        "# @title\n",
        "!gcloud config set disable_prompts false\n",
        "!gcloud auth application-default login --quiet --scopes=\"openid,https://www.googleapis.com/auth/userinfo.email,https://www.googleapis.com/auth/cloud-platform,https://www.googleapis.com/auth/sqlservice.login,https://www.googleapis.com/auth/analytics,https://www.googleapis.com/auth/analytics.edit,https://www.googleapis.com/auth/analytics.provision,https://www.googleapis.com/auth/analytics.readonly,https://www.googleapis.com/auth/accounts.reauth\"\n",
        "!gcloud auth application-default set-quota-project {PROJECT_ID}\n",
        "!export GOOGLE_APPLICATION_CREDENTIALS=/content/.config/application_default_credentials.json\n",
        "\n",
        "clear_output(wait=True)\n",
        "print(\"SUCCESS\")"
      ],
      "metadata": {
        "id": "3cAwp6CRLSVf",
        "cellView": "form"
      },
      "execution_count": null,
      "outputs": []
    },
    {
      "cell_type": "markdown",
      "source": [
        "### 4. Run Installation\n",
        "\n",
        "Click the ( ▶ ) button to run the installation end-to-end.\n",
        "\n",
        "***Time: 15 minutes.***"
      ],
      "metadata": {
        "id": "US36yJ8lmqnP"
      }
    },
    {
      "cell_type": "code",
      "source": [
        "# @title\n",
        "%%capture\n",
        "%%bash\n",
        "# prompt: install packages\n",
        "apt-get install python3.10\n",
        "CLOUDSDK_PYTHON=python3.10\n",
        "\n",
        "#pip3 install poetry\n",
        "sudo apt update\n",
        "sudo apt install pipx\n",
        "pipx ensurepath\n",
        "pipx install poetry\n",
        "\n",
        "export PATH=\"/root/.local/bin:$PATH\"\n",
        "poetry env use python3.10\n",
        "poetry --version\n",
        "\n",
        "git clone --depth=1 https://github.com/tfutils/tfenv.git ~/.tfenv\n",
        "echo 'export PATH=\"~/.tfenv/bin:$PATH\"' >> ~/.bash_profile\n",
        "echo 'export PATH=$PATH:~/.tfenv/bin' >> ~/.bashrc\n",
        "export PATH=\"$PATH:~/.tfenv/bin\"\n",
        "\n",
        "mkdir -p ~/.local/bin/\n",
        ". ~/.profile\n",
        "ln -s ~/.tfenv/bin/* ~/.local/bin\n",
        "which tfenv\n",
        "tfenv --version\n",
        "\n",
        "tfenv install 1.9.7\n",
        "tfenv use 1.9.7\n",
        "terraform --version\n",
        "\n",
        "export PATH=\"$PATH:~/.tfenv/bin\"\n",
        "export PROJECT_ID=$(gcloud config get project --format=json | tr -d '\"')\n",
        "source ./scripts/generate-tf-backend.sh"
      ],
      "metadata": {
        "id": "hmdklTTuQ_9d",
        "cellView": "form"
      },
      "execution_count": null,
      "outputs": []
    },
    {
      "cell_type": "code",
      "source": [
        "# @title\n",
        "%%capture\n",
        "%%bash\n",
        "export PATH=\"$PATH:~/.tfenv/bin\"\n",
        "export GOOGLE_APPLICATION_CREDENTIALS=/content/.config/application_default_credentials.json\n",
        "TERRAFORM_RUN_DIR=$(pwd)/infrastructure/terraform\n",
        "terraform -chdir=\"${TERRAFORM_RUN_DIR}\" init"
      ],
      "metadata": {
        "id": "5UIbC_z9bgy4",
        "cellView": "form"
      },
      "execution_count": null,
      "outputs": []
    },
    {
      "cell_type": "code",
      "source": [
        "# @title\n",
        "%%bash\n",
        "export PATH=\"$PATH:~/.tfenv/bin\"\n",
        "export PATH=\"/root/.local/bin:$PATH\"\n",
        "export PATH=\"$PATH:$(which gcloud)\"\n",
        "export GOOGLE_APPLICATION_CREDENTIALS=/content/.config/application_default_credentials.json\n",
        "TERRAFORM_RUN_DIR=$(pwd)/infrastructure/terraform\n",
        "terraform -chdir=\"${TERRAFORM_RUN_DIR}\" apply -auto-approve"
      ],
      "metadata": {
        "id": "BGteib5ebsA-",
        "cellView": "form"
      },
      "execution_count": null,
      "outputs": []
    },
    {
      "cell_type": "code",
      "source": [
        "# @title\n",
        "print(\"SUCCESS!\")"
      ],
      "metadata": {
        "id": "1h7k6jFYpLPO",
        "cellView": "form"
      },
      "execution_count": null,
      "outputs": []
    }
  ]
}